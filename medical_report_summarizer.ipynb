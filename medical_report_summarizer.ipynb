{
  "nbformat": 4,
  "nbformat_minor": 0,
  "metadata": {
    "colab": {
      "provenance": []
    },
    "kernelspec": {
      "name": "python3",
      "display_name": "Python 3"
    },
    "language_info": {
      "name": "python"
    },
    "widgets": {
      "application/vnd.jupyter.widget-state+json": {
        "0361ff92c9744d7ea21b0604fb870485": {
          "model_module": "@jupyter-widgets/controls",
          "model_name": "HBoxModel",
          "model_module_version": "1.5.0",
          "state": {
            "_dom_classes": [],
            "_model_module": "@jupyter-widgets/controls",
            "_model_module_version": "1.5.0",
            "_model_name": "HBoxModel",
            "_view_count": null,
            "_view_module": "@jupyter-widgets/controls",
            "_view_module_version": "1.5.0",
            "_view_name": "HBoxView",
            "box_style": "",
            "children": [
              "IPY_MODEL_6ae9a176e8d247e4b56ec1b8de279a46",
              "IPY_MODEL_ed64413d0b244d9d83adbce0f9dc2bdd",
              "IPY_MODEL_403c7719e2924511b9ae08dac0d4e781"
            ],
            "layout": "IPY_MODEL_9dc8bedfd668465ba67e98199f59bef8"
          }
        },
        "6ae9a176e8d247e4b56ec1b8de279a46": {
          "model_module": "@jupyter-widgets/controls",
          "model_name": "HTMLModel",
          "model_module_version": "1.5.0",
          "state": {
            "_dom_classes": [],
            "_model_module": "@jupyter-widgets/controls",
            "_model_module_version": "1.5.0",
            "_model_name": "HTMLModel",
            "_view_count": null,
            "_view_module": "@jupyter-widgets/controls",
            "_view_module_version": "1.5.0",
            "_view_name": "HTMLView",
            "description": "",
            "description_tooltip": null,
            "layout": "IPY_MODEL_b0c68e0d70f9471fa467860bbadd0198",
            "placeholder": "​",
            "style": "IPY_MODEL_19bc0f2b99204476b70f757862482fb5",
            "value": "tokenizer_config.json: 100%"
          }
        },
        "ed64413d0b244d9d83adbce0f9dc2bdd": {
          "model_module": "@jupyter-widgets/controls",
          "model_name": "FloatProgressModel",
          "model_module_version": "1.5.0",
          "state": {
            "_dom_classes": [],
            "_model_module": "@jupyter-widgets/controls",
            "_model_module_version": "1.5.0",
            "_model_name": "FloatProgressModel",
            "_view_count": null,
            "_view_module": "@jupyter-widgets/controls",
            "_view_module_version": "1.5.0",
            "_view_name": "ProgressView",
            "bar_style": "success",
            "description": "",
            "description_tooltip": null,
            "layout": "IPY_MODEL_b3eb1a709cc34372b43696aa8b0cb6a7",
            "max": 2324,
            "min": 0,
            "orientation": "horizontal",
            "style": "IPY_MODEL_ff3e25a0ba084d788857e304315c5183",
            "value": 2324
          }
        },
        "403c7719e2924511b9ae08dac0d4e781": {
          "model_module": "@jupyter-widgets/controls",
          "model_name": "HTMLModel",
          "model_module_version": "1.5.0",
          "state": {
            "_dom_classes": [],
            "_model_module": "@jupyter-widgets/controls",
            "_model_module_version": "1.5.0",
            "_model_name": "HTMLModel",
            "_view_count": null,
            "_view_module": "@jupyter-widgets/controls",
            "_view_module_version": "1.5.0",
            "_view_name": "HTMLView",
            "description": "",
            "description_tooltip": null,
            "layout": "IPY_MODEL_e014bac9868e428fbaa24d5b12425081",
            "placeholder": "​",
            "style": "IPY_MODEL_18cb43deb14043858964534983cc0734",
            "value": " 2.32k/2.32k [00:00&lt;00:00, 147kB/s]"
          }
        },
        "9dc8bedfd668465ba67e98199f59bef8": {
          "model_module": "@jupyter-widgets/base",
          "model_name": "LayoutModel",
          "model_module_version": "1.2.0",
          "state": {
            "_model_module": "@jupyter-widgets/base",
            "_model_module_version": "1.2.0",
            "_model_name": "LayoutModel",
            "_view_count": null,
            "_view_module": "@jupyter-widgets/base",
            "_view_module_version": "1.2.0",
            "_view_name": "LayoutView",
            "align_content": null,
            "align_items": null,
            "align_self": null,
            "border": null,
            "bottom": null,
            "display": null,
            "flex": null,
            "flex_flow": null,
            "grid_area": null,
            "grid_auto_columns": null,
            "grid_auto_flow": null,
            "grid_auto_rows": null,
            "grid_column": null,
            "grid_gap": null,
            "grid_row": null,
            "grid_template_areas": null,
            "grid_template_columns": null,
            "grid_template_rows": null,
            "height": null,
            "justify_content": null,
            "justify_items": null,
            "left": null,
            "margin": null,
            "max_height": null,
            "max_width": null,
            "min_height": null,
            "min_width": null,
            "object_fit": null,
            "object_position": null,
            "order": null,
            "overflow": null,
            "overflow_x": null,
            "overflow_y": null,
            "padding": null,
            "right": null,
            "top": null,
            "visibility": null,
            "width": null
          }
        },
        "b0c68e0d70f9471fa467860bbadd0198": {
          "model_module": "@jupyter-widgets/base",
          "model_name": "LayoutModel",
          "model_module_version": "1.2.0",
          "state": {
            "_model_module": "@jupyter-widgets/base",
            "_model_module_version": "1.2.0",
            "_model_name": "LayoutModel",
            "_view_count": null,
            "_view_module": "@jupyter-widgets/base",
            "_view_module_version": "1.2.0",
            "_view_name": "LayoutView",
            "align_content": null,
            "align_items": null,
            "align_self": null,
            "border": null,
            "bottom": null,
            "display": null,
            "flex": null,
            "flex_flow": null,
            "grid_area": null,
            "grid_auto_columns": null,
            "grid_auto_flow": null,
            "grid_auto_rows": null,
            "grid_column": null,
            "grid_gap": null,
            "grid_row": null,
            "grid_template_areas": null,
            "grid_template_columns": null,
            "grid_template_rows": null,
            "height": null,
            "justify_content": null,
            "justify_items": null,
            "left": null,
            "margin": null,
            "max_height": null,
            "max_width": null,
            "min_height": null,
            "min_width": null,
            "object_fit": null,
            "object_position": null,
            "order": null,
            "overflow": null,
            "overflow_x": null,
            "overflow_y": null,
            "padding": null,
            "right": null,
            "top": null,
            "visibility": null,
            "width": null
          }
        },
        "19bc0f2b99204476b70f757862482fb5": {
          "model_module": "@jupyter-widgets/controls",
          "model_name": "DescriptionStyleModel",
          "model_module_version": "1.5.0",
          "state": {
            "_model_module": "@jupyter-widgets/controls",
            "_model_module_version": "1.5.0",
            "_model_name": "DescriptionStyleModel",
            "_view_count": null,
            "_view_module": "@jupyter-widgets/base",
            "_view_module_version": "1.2.0",
            "_view_name": "StyleView",
            "description_width": ""
          }
        },
        "b3eb1a709cc34372b43696aa8b0cb6a7": {
          "model_module": "@jupyter-widgets/base",
          "model_name": "LayoutModel",
          "model_module_version": "1.2.0",
          "state": {
            "_model_module": "@jupyter-widgets/base",
            "_model_module_version": "1.2.0",
            "_model_name": "LayoutModel",
            "_view_count": null,
            "_view_module": "@jupyter-widgets/base",
            "_view_module_version": "1.2.0",
            "_view_name": "LayoutView",
            "align_content": null,
            "align_items": null,
            "align_self": null,
            "border": null,
            "bottom": null,
            "display": null,
            "flex": null,
            "flex_flow": null,
            "grid_area": null,
            "grid_auto_columns": null,
            "grid_auto_flow": null,
            "grid_auto_rows": null,
            "grid_column": null,
            "grid_gap": null,
            "grid_row": null,
            "grid_template_areas": null,
            "grid_template_columns": null,
            "grid_template_rows": null,
            "height": null,
            "justify_content": null,
            "justify_items": null,
            "left": null,
            "margin": null,
            "max_height": null,
            "max_width": null,
            "min_height": null,
            "min_width": null,
            "object_fit": null,
            "object_position": null,
            "order": null,
            "overflow": null,
            "overflow_x": null,
            "overflow_y": null,
            "padding": null,
            "right": null,
            "top": null,
            "visibility": null,
            "width": null
          }
        },
        "ff3e25a0ba084d788857e304315c5183": {
          "model_module": "@jupyter-widgets/controls",
          "model_name": "ProgressStyleModel",
          "model_module_version": "1.5.0",
          "state": {
            "_model_module": "@jupyter-widgets/controls",
            "_model_module_version": "1.5.0",
            "_model_name": "ProgressStyleModel",
            "_view_count": null,
            "_view_module": "@jupyter-widgets/base",
            "_view_module_version": "1.2.0",
            "_view_name": "StyleView",
            "bar_color": null,
            "description_width": ""
          }
        },
        "e014bac9868e428fbaa24d5b12425081": {
          "model_module": "@jupyter-widgets/base",
          "model_name": "LayoutModel",
          "model_module_version": "1.2.0",
          "state": {
            "_model_module": "@jupyter-widgets/base",
            "_model_module_version": "1.2.0",
            "_model_name": "LayoutModel",
            "_view_count": null,
            "_view_module": "@jupyter-widgets/base",
            "_view_module_version": "1.2.0",
            "_view_name": "LayoutView",
            "align_content": null,
            "align_items": null,
            "align_self": null,
            "border": null,
            "bottom": null,
            "display": null,
            "flex": null,
            "flex_flow": null,
            "grid_area": null,
            "grid_auto_columns": null,
            "grid_auto_flow": null,
            "grid_auto_rows": null,
            "grid_column": null,
            "grid_gap": null,
            "grid_row": null,
            "grid_template_areas": null,
            "grid_template_columns": null,
            "grid_template_rows": null,
            "height": null,
            "justify_content": null,
            "justify_items": null,
            "left": null,
            "margin": null,
            "max_height": null,
            "max_width": null,
            "min_height": null,
            "min_width": null,
            "object_fit": null,
            "object_position": null,
            "order": null,
            "overflow": null,
            "overflow_x": null,
            "overflow_y": null,
            "padding": null,
            "right": null,
            "top": null,
            "visibility": null,
            "width": null
          }
        },
        "18cb43deb14043858964534983cc0734": {
          "model_module": "@jupyter-widgets/controls",
          "model_name": "DescriptionStyleModel",
          "model_module_version": "1.5.0",
          "state": {
            "_model_module": "@jupyter-widgets/controls",
            "_model_module_version": "1.5.0",
            "_model_name": "DescriptionStyleModel",
            "_view_count": null,
            "_view_module": "@jupyter-widgets/base",
            "_view_module_version": "1.2.0",
            "_view_name": "StyleView",
            "description_width": ""
          }
        },
        "02dd147f13c7442cbc0ff32aa82194f5": {
          "model_module": "@jupyter-widgets/controls",
          "model_name": "HBoxModel",
          "model_module_version": "1.5.0",
          "state": {
            "_dom_classes": [],
            "_model_module": "@jupyter-widgets/controls",
            "_model_module_version": "1.5.0",
            "_model_name": "HBoxModel",
            "_view_count": null,
            "_view_module": "@jupyter-widgets/controls",
            "_view_module_version": "1.5.0",
            "_view_name": "HBoxView",
            "box_style": "",
            "children": [
              "IPY_MODEL_d7ed33b766304d088ca1785a80545ef7",
              "IPY_MODEL_d3a77e53ad354a29ad14de2567bc948e",
              "IPY_MODEL_65fe5e7a9d3a4e5ea1ed25030b215727"
            ],
            "layout": "IPY_MODEL_c5e52d61bab046d8a38aad860ec5e69f"
          }
        },
        "d7ed33b766304d088ca1785a80545ef7": {
          "model_module": "@jupyter-widgets/controls",
          "model_name": "HTMLModel",
          "model_module_version": "1.5.0",
          "state": {
            "_dom_classes": [],
            "_model_module": "@jupyter-widgets/controls",
            "_model_module_version": "1.5.0",
            "_model_name": "HTMLModel",
            "_view_count": null,
            "_view_module": "@jupyter-widgets/controls",
            "_view_module_version": "1.5.0",
            "_view_name": "HTMLView",
            "description": "",
            "description_tooltip": null,
            "layout": "IPY_MODEL_790ba0244205417caf0c0e9322e8bb59",
            "placeholder": "​",
            "style": "IPY_MODEL_4762412286a344129e681f98903f1794",
            "value": "spiece.model: 100%"
          }
        },
        "d3a77e53ad354a29ad14de2567bc948e": {
          "model_module": "@jupyter-widgets/controls",
          "model_name": "FloatProgressModel",
          "model_module_version": "1.5.0",
          "state": {
            "_dom_classes": [],
            "_model_module": "@jupyter-widgets/controls",
            "_model_module_version": "1.5.0",
            "_model_name": "FloatProgressModel",
            "_view_count": null,
            "_view_module": "@jupyter-widgets/controls",
            "_view_module_version": "1.5.0",
            "_view_name": "ProgressView",
            "bar_style": "success",
            "description": "",
            "description_tooltip": null,
            "layout": "IPY_MODEL_a5027736c5214323b7b16004b2e42278",
            "max": 791656,
            "min": 0,
            "orientation": "horizontal",
            "style": "IPY_MODEL_00fc1146ff624782b0328cc387228300",
            "value": 791656
          }
        },
        "65fe5e7a9d3a4e5ea1ed25030b215727": {
          "model_module": "@jupyter-widgets/controls",
          "model_name": "HTMLModel",
          "model_module_version": "1.5.0",
          "state": {
            "_dom_classes": [],
            "_model_module": "@jupyter-widgets/controls",
            "_model_module_version": "1.5.0",
            "_model_name": "HTMLModel",
            "_view_count": null,
            "_view_module": "@jupyter-widgets/controls",
            "_view_module_version": "1.5.0",
            "_view_name": "HTMLView",
            "description": "",
            "description_tooltip": null,
            "layout": "IPY_MODEL_5dd3f4544b754045a356dda43b1e2dcd",
            "placeholder": "​",
            "style": "IPY_MODEL_8173cf22e7ce4983ad351961fc3dae32",
            "value": " 792k/792k [00:00&lt;00:00, 10.6MB/s]"
          }
        },
        "c5e52d61bab046d8a38aad860ec5e69f": {
          "model_module": "@jupyter-widgets/base",
          "model_name": "LayoutModel",
          "model_module_version": "1.2.0",
          "state": {
            "_model_module": "@jupyter-widgets/base",
            "_model_module_version": "1.2.0",
            "_model_name": "LayoutModel",
            "_view_count": null,
            "_view_module": "@jupyter-widgets/base",
            "_view_module_version": "1.2.0",
            "_view_name": "LayoutView",
            "align_content": null,
            "align_items": null,
            "align_self": null,
            "border": null,
            "bottom": null,
            "display": null,
            "flex": null,
            "flex_flow": null,
            "grid_area": null,
            "grid_auto_columns": null,
            "grid_auto_flow": null,
            "grid_auto_rows": null,
            "grid_column": null,
            "grid_gap": null,
            "grid_row": null,
            "grid_template_areas": null,
            "grid_template_columns": null,
            "grid_template_rows": null,
            "height": null,
            "justify_content": null,
            "justify_items": null,
            "left": null,
            "margin": null,
            "max_height": null,
            "max_width": null,
            "min_height": null,
            "min_width": null,
            "object_fit": null,
            "object_position": null,
            "order": null,
            "overflow": null,
            "overflow_x": null,
            "overflow_y": null,
            "padding": null,
            "right": null,
            "top": null,
            "visibility": null,
            "width": null
          }
        },
        "790ba0244205417caf0c0e9322e8bb59": {
          "model_module": "@jupyter-widgets/base",
          "model_name": "LayoutModel",
          "model_module_version": "1.2.0",
          "state": {
            "_model_module": "@jupyter-widgets/base",
            "_model_module_version": "1.2.0",
            "_model_name": "LayoutModel",
            "_view_count": null,
            "_view_module": "@jupyter-widgets/base",
            "_view_module_version": "1.2.0",
            "_view_name": "LayoutView",
            "align_content": null,
            "align_items": null,
            "align_self": null,
            "border": null,
            "bottom": null,
            "display": null,
            "flex": null,
            "flex_flow": null,
            "grid_area": null,
            "grid_auto_columns": null,
            "grid_auto_flow": null,
            "grid_auto_rows": null,
            "grid_column": null,
            "grid_gap": null,
            "grid_row": null,
            "grid_template_areas": null,
            "grid_template_columns": null,
            "grid_template_rows": null,
            "height": null,
            "justify_content": null,
            "justify_items": null,
            "left": null,
            "margin": null,
            "max_height": null,
            "max_width": null,
            "min_height": null,
            "min_width": null,
            "object_fit": null,
            "object_position": null,
            "order": null,
            "overflow": null,
            "overflow_x": null,
            "overflow_y": null,
            "padding": null,
            "right": null,
            "top": null,
            "visibility": null,
            "width": null
          }
        },
        "4762412286a344129e681f98903f1794": {
          "model_module": "@jupyter-widgets/controls",
          "model_name": "DescriptionStyleModel",
          "model_module_version": "1.5.0",
          "state": {
            "_model_module": "@jupyter-widgets/controls",
            "_model_module_version": "1.5.0",
            "_model_name": "DescriptionStyleModel",
            "_view_count": null,
            "_view_module": "@jupyter-widgets/base",
            "_view_module_version": "1.2.0",
            "_view_name": "StyleView",
            "description_width": ""
          }
        },
        "a5027736c5214323b7b16004b2e42278": {
          "model_module": "@jupyter-widgets/base",
          "model_name": "LayoutModel",
          "model_module_version": "1.2.0",
          "state": {
            "_model_module": "@jupyter-widgets/base",
            "_model_module_version": "1.2.0",
            "_model_name": "LayoutModel",
            "_view_count": null,
            "_view_module": "@jupyter-widgets/base",
            "_view_module_version": "1.2.0",
            "_view_name": "LayoutView",
            "align_content": null,
            "align_items": null,
            "align_self": null,
            "border": null,
            "bottom": null,
            "display": null,
            "flex": null,
            "flex_flow": null,
            "grid_area": null,
            "grid_auto_columns": null,
            "grid_auto_flow": null,
            "grid_auto_rows": null,
            "grid_column": null,
            "grid_gap": null,
            "grid_row": null,
            "grid_template_areas": null,
            "grid_template_columns": null,
            "grid_template_rows": null,
            "height": null,
            "justify_content": null,
            "justify_items": null,
            "left": null,
            "margin": null,
            "max_height": null,
            "max_width": null,
            "min_height": null,
            "min_width": null,
            "object_fit": null,
            "object_position": null,
            "order": null,
            "overflow": null,
            "overflow_x": null,
            "overflow_y": null,
            "padding": null,
            "right": null,
            "top": null,
            "visibility": null,
            "width": null
          }
        },
        "00fc1146ff624782b0328cc387228300": {
          "model_module": "@jupyter-widgets/controls",
          "model_name": "ProgressStyleModel",
          "model_module_version": "1.5.0",
          "state": {
            "_model_module": "@jupyter-widgets/controls",
            "_model_module_version": "1.5.0",
            "_model_name": "ProgressStyleModel",
            "_view_count": null,
            "_view_module": "@jupyter-widgets/base",
            "_view_module_version": "1.2.0",
            "_view_name": "StyleView",
            "bar_color": null,
            "description_width": ""
          }
        },
        "5dd3f4544b754045a356dda43b1e2dcd": {
          "model_module": "@jupyter-widgets/base",
          "model_name": "LayoutModel",
          "model_module_version": "1.2.0",
          "state": {
            "_model_module": "@jupyter-widgets/base",
            "_model_module_version": "1.2.0",
            "_model_name": "LayoutModel",
            "_view_count": null,
            "_view_module": "@jupyter-widgets/base",
            "_view_module_version": "1.2.0",
            "_view_name": "LayoutView",
            "align_content": null,
            "align_items": null,
            "align_self": null,
            "border": null,
            "bottom": null,
            "display": null,
            "flex": null,
            "flex_flow": null,
            "grid_area": null,
            "grid_auto_columns": null,
            "grid_auto_flow": null,
            "grid_auto_rows": null,
            "grid_column": null,
            "grid_gap": null,
            "grid_row": null,
            "grid_template_areas": null,
            "grid_template_columns": null,
            "grid_template_rows": null,
            "height": null,
            "justify_content": null,
            "justify_items": null,
            "left": null,
            "margin": null,
            "max_height": null,
            "max_width": null,
            "min_height": null,
            "min_width": null,
            "object_fit": null,
            "object_position": null,
            "order": null,
            "overflow": null,
            "overflow_x": null,
            "overflow_y": null,
            "padding": null,
            "right": null,
            "top": null,
            "visibility": null,
            "width": null
          }
        },
        "8173cf22e7ce4983ad351961fc3dae32": {
          "model_module": "@jupyter-widgets/controls",
          "model_name": "DescriptionStyleModel",
          "model_module_version": "1.5.0",
          "state": {
            "_model_module": "@jupyter-widgets/controls",
            "_model_module_version": "1.5.0",
            "_model_name": "DescriptionStyleModel",
            "_view_count": null,
            "_view_module": "@jupyter-widgets/base",
            "_view_module_version": "1.2.0",
            "_view_name": "StyleView",
            "description_width": ""
          }
        },
        "c84a3a53ca174f00b930bea3da0da78f": {
          "model_module": "@jupyter-widgets/controls",
          "model_name": "HBoxModel",
          "model_module_version": "1.5.0",
          "state": {
            "_dom_classes": [],
            "_model_module": "@jupyter-widgets/controls",
            "_model_module_version": "1.5.0",
            "_model_name": "HBoxModel",
            "_view_count": null,
            "_view_module": "@jupyter-widgets/controls",
            "_view_module_version": "1.5.0",
            "_view_name": "HBoxView",
            "box_style": "",
            "children": [
              "IPY_MODEL_3475765c34034f859b7c4364c68e561e",
              "IPY_MODEL_6f443a76d4874021b2566e4be8988b10",
              "IPY_MODEL_3e1279f2fa204f10b2116f9cd20be2a9"
            ],
            "layout": "IPY_MODEL_3d68777a278e471db59061bcef618314"
          }
        },
        "3475765c34034f859b7c4364c68e561e": {
          "model_module": "@jupyter-widgets/controls",
          "model_name": "HTMLModel",
          "model_module_version": "1.5.0",
          "state": {
            "_dom_classes": [],
            "_model_module": "@jupyter-widgets/controls",
            "_model_module_version": "1.5.0",
            "_model_name": "HTMLModel",
            "_view_count": null,
            "_view_module": "@jupyter-widgets/controls",
            "_view_module_version": "1.5.0",
            "_view_name": "HTMLView",
            "description": "",
            "description_tooltip": null,
            "layout": "IPY_MODEL_2a275bb17d404d62a88e2ed7d2cc6959",
            "placeholder": "​",
            "style": "IPY_MODEL_71120ea088e2475283cf70d6f926a64c",
            "value": "tokenizer.json: 100%"
          }
        },
        "6f443a76d4874021b2566e4be8988b10": {
          "model_module": "@jupyter-widgets/controls",
          "model_name": "FloatProgressModel",
          "model_module_version": "1.5.0",
          "state": {
            "_dom_classes": [],
            "_model_module": "@jupyter-widgets/controls",
            "_model_module_version": "1.5.0",
            "_model_name": "FloatProgressModel",
            "_view_count": null,
            "_view_module": "@jupyter-widgets/controls",
            "_view_module_version": "1.5.0",
            "_view_name": "ProgressView",
            "bar_style": "success",
            "description": "",
            "description_tooltip": null,
            "layout": "IPY_MODEL_c85d064d2c5d4a818d7992e3bc35829a",
            "max": 1389353,
            "min": 0,
            "orientation": "horizontal",
            "style": "IPY_MODEL_7022bc6b041a4949b07285eaf94dd5cb",
            "value": 1389353
          }
        },
        "3e1279f2fa204f10b2116f9cd20be2a9": {
          "model_module": "@jupyter-widgets/controls",
          "model_name": "HTMLModel",
          "model_module_version": "1.5.0",
          "state": {
            "_dom_classes": [],
            "_model_module": "@jupyter-widgets/controls",
            "_model_module_version": "1.5.0",
            "_model_name": "HTMLModel",
            "_view_count": null,
            "_view_module": "@jupyter-widgets/controls",
            "_view_module_version": "1.5.0",
            "_view_name": "HTMLView",
            "description": "",
            "description_tooltip": null,
            "layout": "IPY_MODEL_3ecc3df6f0054a9d922569c34ccda904",
            "placeholder": "​",
            "style": "IPY_MODEL_8091371b20954f0bbb0b0fe4f741ae9c",
            "value": " 1.39M/1.39M [00:00&lt;00:00, 13.5MB/s]"
          }
        },
        "3d68777a278e471db59061bcef618314": {
          "model_module": "@jupyter-widgets/base",
          "model_name": "LayoutModel",
          "model_module_version": "1.2.0",
          "state": {
            "_model_module": "@jupyter-widgets/base",
            "_model_module_version": "1.2.0",
            "_model_name": "LayoutModel",
            "_view_count": null,
            "_view_module": "@jupyter-widgets/base",
            "_view_module_version": "1.2.0",
            "_view_name": "LayoutView",
            "align_content": null,
            "align_items": null,
            "align_self": null,
            "border": null,
            "bottom": null,
            "display": null,
            "flex": null,
            "flex_flow": null,
            "grid_area": null,
            "grid_auto_columns": null,
            "grid_auto_flow": null,
            "grid_auto_rows": null,
            "grid_column": null,
            "grid_gap": null,
            "grid_row": null,
            "grid_template_areas": null,
            "grid_template_columns": null,
            "grid_template_rows": null,
            "height": null,
            "justify_content": null,
            "justify_items": null,
            "left": null,
            "margin": null,
            "max_height": null,
            "max_width": null,
            "min_height": null,
            "min_width": null,
            "object_fit": null,
            "object_position": null,
            "order": null,
            "overflow": null,
            "overflow_x": null,
            "overflow_y": null,
            "padding": null,
            "right": null,
            "top": null,
            "visibility": null,
            "width": null
          }
        },
        "2a275bb17d404d62a88e2ed7d2cc6959": {
          "model_module": "@jupyter-widgets/base",
          "model_name": "LayoutModel",
          "model_module_version": "1.2.0",
          "state": {
            "_model_module": "@jupyter-widgets/base",
            "_model_module_version": "1.2.0",
            "_model_name": "LayoutModel",
            "_view_count": null,
            "_view_module": "@jupyter-widgets/base",
            "_view_module_version": "1.2.0",
            "_view_name": "LayoutView",
            "align_content": null,
            "align_items": null,
            "align_self": null,
            "border": null,
            "bottom": null,
            "display": null,
            "flex": null,
            "flex_flow": null,
            "grid_area": null,
            "grid_auto_columns": null,
            "grid_auto_flow": null,
            "grid_auto_rows": null,
            "grid_column": null,
            "grid_gap": null,
            "grid_row": null,
            "grid_template_areas": null,
            "grid_template_columns": null,
            "grid_template_rows": null,
            "height": null,
            "justify_content": null,
            "justify_items": null,
            "left": null,
            "margin": null,
            "max_height": null,
            "max_width": null,
            "min_height": null,
            "min_width": null,
            "object_fit": null,
            "object_position": null,
            "order": null,
            "overflow": null,
            "overflow_x": null,
            "overflow_y": null,
            "padding": null,
            "right": null,
            "top": null,
            "visibility": null,
            "width": null
          }
        },
        "71120ea088e2475283cf70d6f926a64c": {
          "model_module": "@jupyter-widgets/controls",
          "model_name": "DescriptionStyleModel",
          "model_module_version": "1.5.0",
          "state": {
            "_model_module": "@jupyter-widgets/controls",
            "_model_module_version": "1.5.0",
            "_model_name": "DescriptionStyleModel",
            "_view_count": null,
            "_view_module": "@jupyter-widgets/base",
            "_view_module_version": "1.2.0",
            "_view_name": "StyleView",
            "description_width": ""
          }
        },
        "c85d064d2c5d4a818d7992e3bc35829a": {
          "model_module": "@jupyter-widgets/base",
          "model_name": "LayoutModel",
          "model_module_version": "1.2.0",
          "state": {
            "_model_module": "@jupyter-widgets/base",
            "_model_module_version": "1.2.0",
            "_model_name": "LayoutModel",
            "_view_count": null,
            "_view_module": "@jupyter-widgets/base",
            "_view_module_version": "1.2.0",
            "_view_name": "LayoutView",
            "align_content": null,
            "align_items": null,
            "align_self": null,
            "border": null,
            "bottom": null,
            "display": null,
            "flex": null,
            "flex_flow": null,
            "grid_area": null,
            "grid_auto_columns": null,
            "grid_auto_flow": null,
            "grid_auto_rows": null,
            "grid_column": null,
            "grid_gap": null,
            "grid_row": null,
            "grid_template_areas": null,
            "grid_template_columns": null,
            "grid_template_rows": null,
            "height": null,
            "justify_content": null,
            "justify_items": null,
            "left": null,
            "margin": null,
            "max_height": null,
            "max_width": null,
            "min_height": null,
            "min_width": null,
            "object_fit": null,
            "object_position": null,
            "order": null,
            "overflow": null,
            "overflow_x": null,
            "overflow_y": null,
            "padding": null,
            "right": null,
            "top": null,
            "visibility": null,
            "width": null
          }
        },
        "7022bc6b041a4949b07285eaf94dd5cb": {
          "model_module": "@jupyter-widgets/controls",
          "model_name": "ProgressStyleModel",
          "model_module_version": "1.5.0",
          "state": {
            "_model_module": "@jupyter-widgets/controls",
            "_model_module_version": "1.5.0",
            "_model_name": "ProgressStyleModel",
            "_view_count": null,
            "_view_module": "@jupyter-widgets/base",
            "_view_module_version": "1.2.0",
            "_view_name": "StyleView",
            "bar_color": null,
            "description_width": ""
          }
        },
        "3ecc3df6f0054a9d922569c34ccda904": {
          "model_module": "@jupyter-widgets/base",
          "model_name": "LayoutModel",
          "model_module_version": "1.2.0",
          "state": {
            "_model_module": "@jupyter-widgets/base",
            "_model_module_version": "1.2.0",
            "_model_name": "LayoutModel",
            "_view_count": null,
            "_view_module": "@jupyter-widgets/base",
            "_view_module_version": "1.2.0",
            "_view_name": "LayoutView",
            "align_content": null,
            "align_items": null,
            "align_self": null,
            "border": null,
            "bottom": null,
            "display": null,
            "flex": null,
            "flex_flow": null,
            "grid_area": null,
            "grid_auto_columns": null,
            "grid_auto_flow": null,
            "grid_auto_rows": null,
            "grid_column": null,
            "grid_gap": null,
            "grid_row": null,
            "grid_template_areas": null,
            "grid_template_columns": null,
            "grid_template_rows": null,
            "height": null,
            "justify_content": null,
            "justify_items": null,
            "left": null,
            "margin": null,
            "max_height": null,
            "max_width": null,
            "min_height": null,
            "min_width": null,
            "object_fit": null,
            "object_position": null,
            "order": null,
            "overflow": null,
            "overflow_x": null,
            "overflow_y": null,
            "padding": null,
            "right": null,
            "top": null,
            "visibility": null,
            "width": null
          }
        },
        "8091371b20954f0bbb0b0fe4f741ae9c": {
          "model_module": "@jupyter-widgets/controls",
          "model_name": "DescriptionStyleModel",
          "model_module_version": "1.5.0",
          "state": {
            "_model_module": "@jupyter-widgets/controls",
            "_model_module_version": "1.5.0",
            "_model_name": "DescriptionStyleModel",
            "_view_count": null,
            "_view_module": "@jupyter-widgets/base",
            "_view_module_version": "1.2.0",
            "_view_name": "StyleView",
            "description_width": ""
          }
        },
        "7d597fb589004c1e8c35fa017dc21f72": {
          "model_module": "@jupyter-widgets/controls",
          "model_name": "HBoxModel",
          "model_module_version": "1.5.0",
          "state": {
            "_dom_classes": [],
            "_model_module": "@jupyter-widgets/controls",
            "_model_module_version": "1.5.0",
            "_model_name": "HBoxModel",
            "_view_count": null,
            "_view_module": "@jupyter-widgets/controls",
            "_view_module_version": "1.5.0",
            "_view_name": "HBoxView",
            "box_style": "",
            "children": [
              "IPY_MODEL_38c0c3d9925f4094b2bb93a24020ed91",
              "IPY_MODEL_cb2ef160aa19446893c9e5fce5bd63e3",
              "IPY_MODEL_813e250033db4f87874b0a88eb95d580"
            ],
            "layout": "IPY_MODEL_512a561fbcd945968ce72c3a7b5d8a22"
          }
        },
        "38c0c3d9925f4094b2bb93a24020ed91": {
          "model_module": "@jupyter-widgets/controls",
          "model_name": "HTMLModel",
          "model_module_version": "1.5.0",
          "state": {
            "_dom_classes": [],
            "_model_module": "@jupyter-widgets/controls",
            "_model_module_version": "1.5.0",
            "_model_name": "HTMLModel",
            "_view_count": null,
            "_view_module": "@jupyter-widgets/controls",
            "_view_module_version": "1.5.0",
            "_view_name": "HTMLView",
            "description": "",
            "description_tooltip": null,
            "layout": "IPY_MODEL_283fa49302b04f7d9d7743c86e368aef",
            "placeholder": "​",
            "style": "IPY_MODEL_6471d88fef8848e78cd762ad30a91fc9",
            "value": "config.json: 100%"
          }
        },
        "cb2ef160aa19446893c9e5fce5bd63e3": {
          "model_module": "@jupyter-widgets/controls",
          "model_name": "FloatProgressModel",
          "model_module_version": "1.5.0",
          "state": {
            "_dom_classes": [],
            "_model_module": "@jupyter-widgets/controls",
            "_model_module_version": "1.5.0",
            "_model_name": "FloatProgressModel",
            "_view_count": null,
            "_view_module": "@jupyter-widgets/controls",
            "_view_module_version": "1.5.0",
            "_view_name": "ProgressView",
            "bar_style": "success",
            "description": "",
            "description_tooltip": null,
            "layout": "IPY_MODEL_363158d740f940efa2faa985de66554b",
            "max": 1206,
            "min": 0,
            "orientation": "horizontal",
            "style": "IPY_MODEL_35cba7f11e064f7a9eec726d8021df34",
            "value": 1206
          }
        },
        "813e250033db4f87874b0a88eb95d580": {
          "model_module": "@jupyter-widgets/controls",
          "model_name": "HTMLModel",
          "model_module_version": "1.5.0",
          "state": {
            "_dom_classes": [],
            "_model_module": "@jupyter-widgets/controls",
            "_model_module_version": "1.5.0",
            "_model_name": "HTMLModel",
            "_view_count": null,
            "_view_module": "@jupyter-widgets/controls",
            "_view_module_version": "1.5.0",
            "_view_name": "HTMLView",
            "description": "",
            "description_tooltip": null,
            "layout": "IPY_MODEL_bea88609185f48c891364d5453c50673",
            "placeholder": "​",
            "style": "IPY_MODEL_fb26f9a18ee94e5abed20827c95879a5",
            "value": " 1.21k/1.21k [00:00&lt;00:00, 53.9kB/s]"
          }
        },
        "512a561fbcd945968ce72c3a7b5d8a22": {
          "model_module": "@jupyter-widgets/base",
          "model_name": "LayoutModel",
          "model_module_version": "1.2.0",
          "state": {
            "_model_module": "@jupyter-widgets/base",
            "_model_module_version": "1.2.0",
            "_model_name": "LayoutModel",
            "_view_count": null,
            "_view_module": "@jupyter-widgets/base",
            "_view_module_version": "1.2.0",
            "_view_name": "LayoutView",
            "align_content": null,
            "align_items": null,
            "align_self": null,
            "border": null,
            "bottom": null,
            "display": null,
            "flex": null,
            "flex_flow": null,
            "grid_area": null,
            "grid_auto_columns": null,
            "grid_auto_flow": null,
            "grid_auto_rows": null,
            "grid_column": null,
            "grid_gap": null,
            "grid_row": null,
            "grid_template_areas": null,
            "grid_template_columns": null,
            "grid_template_rows": null,
            "height": null,
            "justify_content": null,
            "justify_items": null,
            "left": null,
            "margin": null,
            "max_height": null,
            "max_width": null,
            "min_height": null,
            "min_width": null,
            "object_fit": null,
            "object_position": null,
            "order": null,
            "overflow": null,
            "overflow_x": null,
            "overflow_y": null,
            "padding": null,
            "right": null,
            "top": null,
            "visibility": null,
            "width": null
          }
        },
        "283fa49302b04f7d9d7743c86e368aef": {
          "model_module": "@jupyter-widgets/base",
          "model_name": "LayoutModel",
          "model_module_version": "1.2.0",
          "state": {
            "_model_module": "@jupyter-widgets/base",
            "_model_module_version": "1.2.0",
            "_model_name": "LayoutModel",
            "_view_count": null,
            "_view_module": "@jupyter-widgets/base",
            "_view_module_version": "1.2.0",
            "_view_name": "LayoutView",
            "align_content": null,
            "align_items": null,
            "align_self": null,
            "border": null,
            "bottom": null,
            "display": null,
            "flex": null,
            "flex_flow": null,
            "grid_area": null,
            "grid_auto_columns": null,
            "grid_auto_flow": null,
            "grid_auto_rows": null,
            "grid_column": null,
            "grid_gap": null,
            "grid_row": null,
            "grid_template_areas": null,
            "grid_template_columns": null,
            "grid_template_rows": null,
            "height": null,
            "justify_content": null,
            "justify_items": null,
            "left": null,
            "margin": null,
            "max_height": null,
            "max_width": null,
            "min_height": null,
            "min_width": null,
            "object_fit": null,
            "object_position": null,
            "order": null,
            "overflow": null,
            "overflow_x": null,
            "overflow_y": null,
            "padding": null,
            "right": null,
            "top": null,
            "visibility": null,
            "width": null
          }
        },
        "6471d88fef8848e78cd762ad30a91fc9": {
          "model_module": "@jupyter-widgets/controls",
          "model_name": "DescriptionStyleModel",
          "model_module_version": "1.5.0",
          "state": {
            "_model_module": "@jupyter-widgets/controls",
            "_model_module_version": "1.5.0",
            "_model_name": "DescriptionStyleModel",
            "_view_count": null,
            "_view_module": "@jupyter-widgets/base",
            "_view_module_version": "1.2.0",
            "_view_name": "StyleView",
            "description_width": ""
          }
        },
        "363158d740f940efa2faa985de66554b": {
          "model_module": "@jupyter-widgets/base",
          "model_name": "LayoutModel",
          "model_module_version": "1.2.0",
          "state": {
            "_model_module": "@jupyter-widgets/base",
            "_model_module_version": "1.2.0",
            "_model_name": "LayoutModel",
            "_view_count": null,
            "_view_module": "@jupyter-widgets/base",
            "_view_module_version": "1.2.0",
            "_view_name": "LayoutView",
            "align_content": null,
            "align_items": null,
            "align_self": null,
            "border": null,
            "bottom": null,
            "display": null,
            "flex": null,
            "flex_flow": null,
            "grid_area": null,
            "grid_auto_columns": null,
            "grid_auto_flow": null,
            "grid_auto_rows": null,
            "grid_column": null,
            "grid_gap": null,
            "grid_row": null,
            "grid_template_areas": null,
            "grid_template_columns": null,
            "grid_template_rows": null,
            "height": null,
            "justify_content": null,
            "justify_items": null,
            "left": null,
            "margin": null,
            "max_height": null,
            "max_width": null,
            "min_height": null,
            "min_width": null,
            "object_fit": null,
            "object_position": null,
            "order": null,
            "overflow": null,
            "overflow_x": null,
            "overflow_y": null,
            "padding": null,
            "right": null,
            "top": null,
            "visibility": null,
            "width": null
          }
        },
        "35cba7f11e064f7a9eec726d8021df34": {
          "model_module": "@jupyter-widgets/controls",
          "model_name": "ProgressStyleModel",
          "model_module_version": "1.5.0",
          "state": {
            "_model_module": "@jupyter-widgets/controls",
            "_model_module_version": "1.5.0",
            "_model_name": "ProgressStyleModel",
            "_view_count": null,
            "_view_module": "@jupyter-widgets/base",
            "_view_module_version": "1.2.0",
            "_view_name": "StyleView",
            "bar_color": null,
            "description_width": ""
          }
        },
        "bea88609185f48c891364d5453c50673": {
          "model_module": "@jupyter-widgets/base",
          "model_name": "LayoutModel",
          "model_module_version": "1.2.0",
          "state": {
            "_model_module": "@jupyter-widgets/base",
            "_model_module_version": "1.2.0",
            "_model_name": "LayoutModel",
            "_view_count": null,
            "_view_module": "@jupyter-widgets/base",
            "_view_module_version": "1.2.0",
            "_view_name": "LayoutView",
            "align_content": null,
            "align_items": null,
            "align_self": null,
            "border": null,
            "bottom": null,
            "display": null,
            "flex": null,
            "flex_flow": null,
            "grid_area": null,
            "grid_auto_columns": null,
            "grid_auto_flow": null,
            "grid_auto_rows": null,
            "grid_column": null,
            "grid_gap": null,
            "grid_row": null,
            "grid_template_areas": null,
            "grid_template_columns": null,
            "grid_template_rows": null,
            "height": null,
            "justify_content": null,
            "justify_items": null,
            "left": null,
            "margin": null,
            "max_height": null,
            "max_width": null,
            "min_height": null,
            "min_width": null,
            "object_fit": null,
            "object_position": null,
            "order": null,
            "overflow": null,
            "overflow_x": null,
            "overflow_y": null,
            "padding": null,
            "right": null,
            "top": null,
            "visibility": null,
            "width": null
          }
        },
        "fb26f9a18ee94e5abed20827c95879a5": {
          "model_module": "@jupyter-widgets/controls",
          "model_name": "DescriptionStyleModel",
          "model_module_version": "1.5.0",
          "state": {
            "_model_module": "@jupyter-widgets/controls",
            "_model_module_version": "1.5.0",
            "_model_name": "DescriptionStyleModel",
            "_view_count": null,
            "_view_module": "@jupyter-widgets/base",
            "_view_module_version": "1.2.0",
            "_view_name": "StyleView",
            "description_width": ""
          }
        },
        "eb6845669aec4c52a30770edb6f28cf0": {
          "model_module": "@jupyter-widgets/controls",
          "model_name": "HBoxModel",
          "model_module_version": "1.5.0",
          "state": {
            "_dom_classes": [],
            "_model_module": "@jupyter-widgets/controls",
            "_model_module_version": "1.5.0",
            "_model_name": "HBoxModel",
            "_view_count": null,
            "_view_module": "@jupyter-widgets/controls",
            "_view_module_version": "1.5.0",
            "_view_name": "HBoxView",
            "box_style": "",
            "children": [
              "IPY_MODEL_135764ab6f85413d882cfabd07c32a11",
              "IPY_MODEL_4103bd1add644cc09846067b448e648d",
              "IPY_MODEL_9e43403b53e44c22b86d5ad664dec50c"
            ],
            "layout": "IPY_MODEL_685a9a0e74fe41c1842c919f1ff6fb11"
          }
        },
        "135764ab6f85413d882cfabd07c32a11": {
          "model_module": "@jupyter-widgets/controls",
          "model_name": "HTMLModel",
          "model_module_version": "1.5.0",
          "state": {
            "_dom_classes": [],
            "_model_module": "@jupyter-widgets/controls",
            "_model_module_version": "1.5.0",
            "_model_name": "HTMLModel",
            "_view_count": null,
            "_view_module": "@jupyter-widgets/controls",
            "_view_module_version": "1.5.0",
            "_view_name": "HTMLView",
            "description": "",
            "description_tooltip": null,
            "layout": "IPY_MODEL_c4e8d6556a704516a49f1737137c5217",
            "placeholder": "​",
            "style": "IPY_MODEL_35d1ac5ba770427dab3c3f20386b4d4d",
            "value": "model.safetensors: 100%"
          }
        },
        "4103bd1add644cc09846067b448e648d": {
          "model_module": "@jupyter-widgets/controls",
          "model_name": "FloatProgressModel",
          "model_module_version": "1.5.0",
          "state": {
            "_dom_classes": [],
            "_model_module": "@jupyter-widgets/controls",
            "_model_module_version": "1.5.0",
            "_model_name": "FloatProgressModel",
            "_view_count": null,
            "_view_module": "@jupyter-widgets/controls",
            "_view_module_version": "1.5.0",
            "_view_name": "ProgressView",
            "bar_style": "success",
            "description": "",
            "description_tooltip": null,
            "layout": "IPY_MODEL_e5e2ba49e33745d49e538ac2e0b4dcf8",
            "max": 242043056,
            "min": 0,
            "orientation": "horizontal",
            "style": "IPY_MODEL_a96eaa4e91a14692862b8c0a257db5b1",
            "value": 242043056
          }
        },
        "9e43403b53e44c22b86d5ad664dec50c": {
          "model_module": "@jupyter-widgets/controls",
          "model_name": "HTMLModel",
          "model_module_version": "1.5.0",
          "state": {
            "_dom_classes": [],
            "_model_module": "@jupyter-widgets/controls",
            "_model_module_version": "1.5.0",
            "_model_name": "HTMLModel",
            "_view_count": null,
            "_view_module": "@jupyter-widgets/controls",
            "_view_module_version": "1.5.0",
            "_view_name": "HTMLView",
            "description": "",
            "description_tooltip": null,
            "layout": "IPY_MODEL_b23e7952c2934c029ca55af73ce1fb31",
            "placeholder": "​",
            "style": "IPY_MODEL_29e2737808c74a7491d0593436c1c329",
            "value": " 242M/242M [00:09&lt;00:00, 26.8MB/s]"
          }
        },
        "685a9a0e74fe41c1842c919f1ff6fb11": {
          "model_module": "@jupyter-widgets/base",
          "model_name": "LayoutModel",
          "model_module_version": "1.2.0",
          "state": {
            "_model_module": "@jupyter-widgets/base",
            "_model_module_version": "1.2.0",
            "_model_name": "LayoutModel",
            "_view_count": null,
            "_view_module": "@jupyter-widgets/base",
            "_view_module_version": "1.2.0",
            "_view_name": "LayoutView",
            "align_content": null,
            "align_items": null,
            "align_self": null,
            "border": null,
            "bottom": null,
            "display": null,
            "flex": null,
            "flex_flow": null,
            "grid_area": null,
            "grid_auto_columns": null,
            "grid_auto_flow": null,
            "grid_auto_rows": null,
            "grid_column": null,
            "grid_gap": null,
            "grid_row": null,
            "grid_template_areas": null,
            "grid_template_columns": null,
            "grid_template_rows": null,
            "height": null,
            "justify_content": null,
            "justify_items": null,
            "left": null,
            "margin": null,
            "max_height": null,
            "max_width": null,
            "min_height": null,
            "min_width": null,
            "object_fit": null,
            "object_position": null,
            "order": null,
            "overflow": null,
            "overflow_x": null,
            "overflow_y": null,
            "padding": null,
            "right": null,
            "top": null,
            "visibility": null,
            "width": null
          }
        },
        "c4e8d6556a704516a49f1737137c5217": {
          "model_module": "@jupyter-widgets/base",
          "model_name": "LayoutModel",
          "model_module_version": "1.2.0",
          "state": {
            "_model_module": "@jupyter-widgets/base",
            "_model_module_version": "1.2.0",
            "_model_name": "LayoutModel",
            "_view_count": null,
            "_view_module": "@jupyter-widgets/base",
            "_view_module_version": "1.2.0",
            "_view_name": "LayoutView",
            "align_content": null,
            "align_items": null,
            "align_self": null,
            "border": null,
            "bottom": null,
            "display": null,
            "flex": null,
            "flex_flow": null,
            "grid_area": null,
            "grid_auto_columns": null,
            "grid_auto_flow": null,
            "grid_auto_rows": null,
            "grid_column": null,
            "grid_gap": null,
            "grid_row": null,
            "grid_template_areas": null,
            "grid_template_columns": null,
            "grid_template_rows": null,
            "height": null,
            "justify_content": null,
            "justify_items": null,
            "left": null,
            "margin": null,
            "max_height": null,
            "max_width": null,
            "min_height": null,
            "min_width": null,
            "object_fit": null,
            "object_position": null,
            "order": null,
            "overflow": null,
            "overflow_x": null,
            "overflow_y": null,
            "padding": null,
            "right": null,
            "top": null,
            "visibility": null,
            "width": null
          }
        },
        "35d1ac5ba770427dab3c3f20386b4d4d": {
          "model_module": "@jupyter-widgets/controls",
          "model_name": "DescriptionStyleModel",
          "model_module_version": "1.5.0",
          "state": {
            "_model_module": "@jupyter-widgets/controls",
            "_model_module_version": "1.5.0",
            "_model_name": "DescriptionStyleModel",
            "_view_count": null,
            "_view_module": "@jupyter-widgets/base",
            "_view_module_version": "1.2.0",
            "_view_name": "StyleView",
            "description_width": ""
          }
        },
        "e5e2ba49e33745d49e538ac2e0b4dcf8": {
          "model_module": "@jupyter-widgets/base",
          "model_name": "LayoutModel",
          "model_module_version": "1.2.0",
          "state": {
            "_model_module": "@jupyter-widgets/base",
            "_model_module_version": "1.2.0",
            "_model_name": "LayoutModel",
            "_view_count": null,
            "_view_module": "@jupyter-widgets/base",
            "_view_module_version": "1.2.0",
            "_view_name": "LayoutView",
            "align_content": null,
            "align_items": null,
            "align_self": null,
            "border": null,
            "bottom": null,
            "display": null,
            "flex": null,
            "flex_flow": null,
            "grid_area": null,
            "grid_auto_columns": null,
            "grid_auto_flow": null,
            "grid_auto_rows": null,
            "grid_column": null,
            "grid_gap": null,
            "grid_row": null,
            "grid_template_areas": null,
            "grid_template_columns": null,
            "grid_template_rows": null,
            "height": null,
            "justify_content": null,
            "justify_items": null,
            "left": null,
            "margin": null,
            "max_height": null,
            "max_width": null,
            "min_height": null,
            "min_width": null,
            "object_fit": null,
            "object_position": null,
            "order": null,
            "overflow": null,
            "overflow_x": null,
            "overflow_y": null,
            "padding": null,
            "right": null,
            "top": null,
            "visibility": null,
            "width": null
          }
        },
        "a96eaa4e91a14692862b8c0a257db5b1": {
          "model_module": "@jupyter-widgets/controls",
          "model_name": "ProgressStyleModel",
          "model_module_version": "1.5.0",
          "state": {
            "_model_module": "@jupyter-widgets/controls",
            "_model_module_version": "1.5.0",
            "_model_name": "ProgressStyleModel",
            "_view_count": null,
            "_view_module": "@jupyter-widgets/base",
            "_view_module_version": "1.2.0",
            "_view_name": "StyleView",
            "bar_color": null,
            "description_width": ""
          }
        },
        "b23e7952c2934c029ca55af73ce1fb31": {
          "model_module": "@jupyter-widgets/base",
          "model_name": "LayoutModel",
          "model_module_version": "1.2.0",
          "state": {
            "_model_module": "@jupyter-widgets/base",
            "_model_module_version": "1.2.0",
            "_model_name": "LayoutModel",
            "_view_count": null,
            "_view_module": "@jupyter-widgets/base",
            "_view_module_version": "1.2.0",
            "_view_name": "LayoutView",
            "align_content": null,
            "align_items": null,
            "align_self": null,
            "border": null,
            "bottom": null,
            "display": null,
            "flex": null,
            "flex_flow": null,
            "grid_area": null,
            "grid_auto_columns": null,
            "grid_auto_flow": null,
            "grid_auto_rows": null,
            "grid_column": null,
            "grid_gap": null,
            "grid_row": null,
            "grid_template_areas": null,
            "grid_template_columns": null,
            "grid_template_rows": null,
            "height": null,
            "justify_content": null,
            "justify_items": null,
            "left": null,
            "margin": null,
            "max_height": null,
            "max_width": null,
            "min_height": null,
            "min_width": null,
            "object_fit": null,
            "object_position": null,
            "order": null,
            "overflow": null,
            "overflow_x": null,
            "overflow_y": null,
            "padding": null,
            "right": null,
            "top": null,
            "visibility": null,
            "width": null
          }
        },
        "29e2737808c74a7491d0593436c1c329": {
          "model_module": "@jupyter-widgets/controls",
          "model_name": "DescriptionStyleModel",
          "model_module_version": "1.5.0",
          "state": {
            "_model_module": "@jupyter-widgets/controls",
            "_model_module_version": "1.5.0",
            "_model_name": "DescriptionStyleModel",
            "_view_count": null,
            "_view_module": "@jupyter-widgets/base",
            "_view_module_version": "1.2.0",
            "_view_name": "StyleView",
            "description_width": ""
          }
        },
        "d990ce96a05947778e3bdc49d80bb5a3": {
          "model_module": "@jupyter-widgets/controls",
          "model_name": "HBoxModel",
          "model_module_version": "1.5.0",
          "state": {
            "_dom_classes": [],
            "_model_module": "@jupyter-widgets/controls",
            "_model_module_version": "1.5.0",
            "_model_name": "HBoxModel",
            "_view_count": null,
            "_view_module": "@jupyter-widgets/controls",
            "_view_module_version": "1.5.0",
            "_view_name": "HBoxView",
            "box_style": "",
            "children": [
              "IPY_MODEL_441d909699c84a4f8352cde1111a8429",
              "IPY_MODEL_12837dbd27424081a7a5d23a25199330",
              "IPY_MODEL_210e07e3e0d9461aa932eb30af9ac39c"
            ],
            "layout": "IPY_MODEL_b79f1637f899460da4e2ce4a03dc058c"
          }
        },
        "441d909699c84a4f8352cde1111a8429": {
          "model_module": "@jupyter-widgets/controls",
          "model_name": "HTMLModel",
          "model_module_version": "1.5.0",
          "state": {
            "_dom_classes": [],
            "_model_module": "@jupyter-widgets/controls",
            "_model_module_version": "1.5.0",
            "_model_name": "HTMLModel",
            "_view_count": null,
            "_view_module": "@jupyter-widgets/controls",
            "_view_module_version": "1.5.0",
            "_view_name": "HTMLView",
            "description": "",
            "description_tooltip": null,
            "layout": "IPY_MODEL_359f113c36b741679889e8068019ce0e",
            "placeholder": "​",
            "style": "IPY_MODEL_09aa7f3c5525407f9784e156160cb766",
            "value": "generation_config.json: 100%"
          }
        },
        "12837dbd27424081a7a5d23a25199330": {
          "model_module": "@jupyter-widgets/controls",
          "model_name": "FloatProgressModel",
          "model_module_version": "1.5.0",
          "state": {
            "_dom_classes": [],
            "_model_module": "@jupyter-widgets/controls",
            "_model_module_version": "1.5.0",
            "_model_name": "FloatProgressModel",
            "_view_count": null,
            "_view_module": "@jupyter-widgets/controls",
            "_view_module_version": "1.5.0",
            "_view_name": "ProgressView",
            "bar_style": "success",
            "description": "",
            "description_tooltip": null,
            "layout": "IPY_MODEL_fb0daabcf1e4412e8edbd7edb6656451",
            "max": 147,
            "min": 0,
            "orientation": "horizontal",
            "style": "IPY_MODEL_f9c2654a9bc5432ea77ed3875d1a8bc4",
            "value": 147
          }
        },
        "210e07e3e0d9461aa932eb30af9ac39c": {
          "model_module": "@jupyter-widgets/controls",
          "model_name": "HTMLModel",
          "model_module_version": "1.5.0",
          "state": {
            "_dom_classes": [],
            "_model_module": "@jupyter-widgets/controls",
            "_model_module_version": "1.5.0",
            "_model_name": "HTMLModel",
            "_view_count": null,
            "_view_module": "@jupyter-widgets/controls",
            "_view_module_version": "1.5.0",
            "_view_name": "HTMLView",
            "description": "",
            "description_tooltip": null,
            "layout": "IPY_MODEL_3ae5554ad4e9421a9c5f30a12b4baf66",
            "placeholder": "​",
            "style": "IPY_MODEL_d994e2117688447da28c9d34283f6a1a",
            "value": " 147/147 [00:00&lt;00:00, 13.9kB/s]"
          }
        },
        "b79f1637f899460da4e2ce4a03dc058c": {
          "model_module": "@jupyter-widgets/base",
          "model_name": "LayoutModel",
          "model_module_version": "1.2.0",
          "state": {
            "_model_module": "@jupyter-widgets/base",
            "_model_module_version": "1.2.0",
            "_model_name": "LayoutModel",
            "_view_count": null,
            "_view_module": "@jupyter-widgets/base",
            "_view_module_version": "1.2.0",
            "_view_name": "LayoutView",
            "align_content": null,
            "align_items": null,
            "align_self": null,
            "border": null,
            "bottom": null,
            "display": null,
            "flex": null,
            "flex_flow": null,
            "grid_area": null,
            "grid_auto_columns": null,
            "grid_auto_flow": null,
            "grid_auto_rows": null,
            "grid_column": null,
            "grid_gap": null,
            "grid_row": null,
            "grid_template_areas": null,
            "grid_template_columns": null,
            "grid_template_rows": null,
            "height": null,
            "justify_content": null,
            "justify_items": null,
            "left": null,
            "margin": null,
            "max_height": null,
            "max_width": null,
            "min_height": null,
            "min_width": null,
            "object_fit": null,
            "object_position": null,
            "order": null,
            "overflow": null,
            "overflow_x": null,
            "overflow_y": null,
            "padding": null,
            "right": null,
            "top": null,
            "visibility": null,
            "width": null
          }
        },
        "359f113c36b741679889e8068019ce0e": {
          "model_module": "@jupyter-widgets/base",
          "model_name": "LayoutModel",
          "model_module_version": "1.2.0",
          "state": {
            "_model_module": "@jupyter-widgets/base",
            "_model_module_version": "1.2.0",
            "_model_name": "LayoutModel",
            "_view_count": null,
            "_view_module": "@jupyter-widgets/base",
            "_view_module_version": "1.2.0",
            "_view_name": "LayoutView",
            "align_content": null,
            "align_items": null,
            "align_self": null,
            "border": null,
            "bottom": null,
            "display": null,
            "flex": null,
            "flex_flow": null,
            "grid_area": null,
            "grid_auto_columns": null,
            "grid_auto_flow": null,
            "grid_auto_rows": null,
            "grid_column": null,
            "grid_gap": null,
            "grid_row": null,
            "grid_template_areas": null,
            "grid_template_columns": null,
            "grid_template_rows": null,
            "height": null,
            "justify_content": null,
            "justify_items": null,
            "left": null,
            "margin": null,
            "max_height": null,
            "max_width": null,
            "min_height": null,
            "min_width": null,
            "object_fit": null,
            "object_position": null,
            "order": null,
            "overflow": null,
            "overflow_x": null,
            "overflow_y": null,
            "padding": null,
            "right": null,
            "top": null,
            "visibility": null,
            "width": null
          }
        },
        "09aa7f3c5525407f9784e156160cb766": {
          "model_module": "@jupyter-widgets/controls",
          "model_name": "DescriptionStyleModel",
          "model_module_version": "1.5.0",
          "state": {
            "_model_module": "@jupyter-widgets/controls",
            "_model_module_version": "1.5.0",
            "_model_name": "DescriptionStyleModel",
            "_view_count": null,
            "_view_module": "@jupyter-widgets/base",
            "_view_module_version": "1.2.0",
            "_view_name": "StyleView",
            "description_width": ""
          }
        },
        "fb0daabcf1e4412e8edbd7edb6656451": {
          "model_module": "@jupyter-widgets/base",
          "model_name": "LayoutModel",
          "model_module_version": "1.2.0",
          "state": {
            "_model_module": "@jupyter-widgets/base",
            "_model_module_version": "1.2.0",
            "_model_name": "LayoutModel",
            "_view_count": null,
            "_view_module": "@jupyter-widgets/base",
            "_view_module_version": "1.2.0",
            "_view_name": "LayoutView",
            "align_content": null,
            "align_items": null,
            "align_self": null,
            "border": null,
            "bottom": null,
            "display": null,
            "flex": null,
            "flex_flow": null,
            "grid_area": null,
            "grid_auto_columns": null,
            "grid_auto_flow": null,
            "grid_auto_rows": null,
            "grid_column": null,
            "grid_gap": null,
            "grid_row": null,
            "grid_template_areas": null,
            "grid_template_columns": null,
            "grid_template_rows": null,
            "height": null,
            "justify_content": null,
            "justify_items": null,
            "left": null,
            "margin": null,
            "max_height": null,
            "max_width": null,
            "min_height": null,
            "min_width": null,
            "object_fit": null,
            "object_position": null,
            "order": null,
            "overflow": null,
            "overflow_x": null,
            "overflow_y": null,
            "padding": null,
            "right": null,
            "top": null,
            "visibility": null,
            "width": null
          }
        },
        "f9c2654a9bc5432ea77ed3875d1a8bc4": {
          "model_module": "@jupyter-widgets/controls",
          "model_name": "ProgressStyleModel",
          "model_module_version": "1.5.0",
          "state": {
            "_model_module": "@jupyter-widgets/controls",
            "_model_module_version": "1.5.0",
            "_model_name": "ProgressStyleModel",
            "_view_count": null,
            "_view_module": "@jupyter-widgets/base",
            "_view_module_version": "1.2.0",
            "_view_name": "StyleView",
            "bar_color": null,
            "description_width": ""
          }
        },
        "3ae5554ad4e9421a9c5f30a12b4baf66": {
          "model_module": "@jupyter-widgets/base",
          "model_name": "LayoutModel",
          "model_module_version": "1.2.0",
          "state": {
            "_model_module": "@jupyter-widgets/base",
            "_model_module_version": "1.2.0",
            "_model_name": "LayoutModel",
            "_view_count": null,
            "_view_module": "@jupyter-widgets/base",
            "_view_module_version": "1.2.0",
            "_view_name": "LayoutView",
            "align_content": null,
            "align_items": null,
            "align_self": null,
            "border": null,
            "bottom": null,
            "display": null,
            "flex": null,
            "flex_flow": null,
            "grid_area": null,
            "grid_auto_columns": null,
            "grid_auto_flow": null,
            "grid_auto_rows": null,
            "grid_column": null,
            "grid_gap": null,
            "grid_row": null,
            "grid_template_areas": null,
            "grid_template_columns": null,
            "grid_template_rows": null,
            "height": null,
            "justify_content": null,
            "justify_items": null,
            "left": null,
            "margin": null,
            "max_height": null,
            "max_width": null,
            "min_height": null,
            "min_width": null,
            "object_fit": null,
            "object_position": null,
            "order": null,
            "overflow": null,
            "overflow_x": null,
            "overflow_y": null,
            "padding": null,
            "right": null,
            "top": null,
            "visibility": null,
            "width": null
          }
        },
        "d994e2117688447da28c9d34283f6a1a": {
          "model_module": "@jupyter-widgets/controls",
          "model_name": "DescriptionStyleModel",
          "model_module_version": "1.5.0",
          "state": {
            "_model_module": "@jupyter-widgets/controls",
            "_model_module_version": "1.5.0",
            "_model_name": "DescriptionStyleModel",
            "_view_count": null,
            "_view_module": "@jupyter-widgets/base",
            "_view_module_version": "1.2.0",
            "_view_name": "StyleView",
            "description_width": ""
          }
        }
      }
    }
  },
  "cells": [
    {
      "cell_type": "code",
      "execution_count": 5,
      "metadata": {
        "colab": {
          "base_uri": "https://localhost:8080/"
        },
        "id": "2MmcLloNakzb",
        "outputId": "a453401e-07aa-4a25-a3e3-68088de26dfe"
      },
      "outputs": [
        {
          "output_type": "stream",
          "name": "stdout",
          "text": [
            "Requirement already satisfied: pandas in /usr/local/lib/python3.12/dist-packages (2.2.2)\n",
            "Requirement already satisfied: nltk in /usr/local/lib/python3.12/dist-packages (3.9.1)\n",
            "Requirement already satisfied: sumy in /usr/local/lib/python3.12/dist-packages (0.11.0)\n",
            "Requirement already satisfied: gensim in /usr/local/lib/python3.12/dist-packages (4.3.3)\n",
            "Requirement already satisfied: scikit-learn in /usr/local/lib/python3.12/dist-packages (1.6.1)\n",
            "Requirement already satisfied: rouge-score in /usr/local/lib/python3.12/dist-packages (0.1.2)\n",
            "Requirement already satisfied: numpy>=1.26.0 in /usr/local/lib/python3.12/dist-packages (from pandas) (1.26.4)\n",
            "Requirement already satisfied: python-dateutil>=2.8.2 in /usr/local/lib/python3.12/dist-packages (from pandas) (2.9.0.post0)\n",
            "Requirement already satisfied: pytz>=2020.1 in /usr/local/lib/python3.12/dist-packages (from pandas) (2025.2)\n",
            "Requirement already satisfied: tzdata>=2022.7 in /usr/local/lib/python3.12/dist-packages (from pandas) (2025.2)\n",
            "Requirement already satisfied: click in /usr/local/lib/python3.12/dist-packages (from nltk) (8.2.1)\n",
            "Requirement already satisfied: joblib in /usr/local/lib/python3.12/dist-packages (from nltk) (1.5.2)\n",
            "Requirement already satisfied: regex>=2021.8.3 in /usr/local/lib/python3.12/dist-packages (from nltk) (2024.11.6)\n",
            "Requirement already satisfied: tqdm in /usr/local/lib/python3.12/dist-packages (from nltk) (4.67.1)\n",
            "Requirement already satisfied: docopt<0.7,>=0.6.1 in /usr/local/lib/python3.12/dist-packages (from sumy) (0.6.2)\n",
            "Requirement already satisfied: breadability>=0.1.20 in /usr/local/lib/python3.12/dist-packages (from sumy) (0.1.20)\n",
            "Requirement already satisfied: requests>=2.7.0 in /usr/local/lib/python3.12/dist-packages (from sumy) (2.32.4)\n",
            "Requirement already satisfied: pycountry>=18.2.23 in /usr/local/lib/python3.12/dist-packages (from sumy) (24.6.1)\n",
            "Requirement already satisfied: scipy<1.14.0,>=1.7.0 in /usr/local/lib/python3.12/dist-packages (from gensim) (1.13.1)\n",
            "Requirement already satisfied: smart-open>=1.8.1 in /usr/local/lib/python3.12/dist-packages (from gensim) (7.3.1)\n",
            "Requirement already satisfied: threadpoolctl>=3.1.0 in /usr/local/lib/python3.12/dist-packages (from scikit-learn) (3.6.0)\n",
            "Requirement already satisfied: absl-py in /usr/local/lib/python3.12/dist-packages (from rouge-score) (1.4.0)\n",
            "Requirement already satisfied: six>=1.14.0 in /usr/local/lib/python3.12/dist-packages (from rouge-score) (1.17.0)\n",
            "Requirement already satisfied: chardet in /usr/local/lib/python3.12/dist-packages (from breadability>=0.1.20->sumy) (5.2.0)\n",
            "Requirement already satisfied: lxml>=2.0 in /usr/local/lib/python3.12/dist-packages (from breadability>=0.1.20->sumy) (5.4.0)\n",
            "Requirement already satisfied: charset_normalizer<4,>=2 in /usr/local/lib/python3.12/dist-packages (from requests>=2.7.0->sumy) (3.4.3)\n",
            "Requirement already satisfied: idna<4,>=2.5 in /usr/local/lib/python3.12/dist-packages (from requests>=2.7.0->sumy) (3.10)\n",
            "Requirement already satisfied: urllib3<3,>=1.21.1 in /usr/local/lib/python3.12/dist-packages (from requests>=2.7.0->sumy) (2.5.0)\n",
            "Requirement already satisfied: certifi>=2017.4.17 in /usr/local/lib/python3.12/dist-packages (from requests>=2.7.0->sumy) (2025.8.3)\n",
            "Requirement already satisfied: wrapt in /usr/local/lib/python3.12/dist-packages (from smart-open>=1.8.1->gensim) (1.17.3)\n"
          ]
        }
      ],
      "source": [
        "# (run once in terminal / notebook)\n",
        "!pip install pandas nltk sumy gensim scikit-learn rouge-score"
      ]
    },
    {
      "cell_type": "code",
      "source": [
        "import pandas as pd\n",
        "import numpy as np\n",
        "import nltk, re, zipfile, os\n",
        "from sumy.parsers.plaintext import PlaintextParser\n",
        "from sumy.nlp.tokenizers import Tokenizer\n",
        "from sumy.summarizers.text_rank import TextRankSummarizer\n",
        "\n",
        "nltk.download('punkt')\n",
        "\n",
        "# 1) Unzip your dataset\n",
        "zip_path = \"/content/drive/MyDrive/archive.zip\"\n",
        "extract_path = \"/content/drive/MyDrive/archive_extracted\"\n",
        "with zipfile.ZipFile(zip_path, 'r') as zip_ref:\n",
        "    zip_ref.extractall(extract_path)\n",
        "\n",
        "# 2) List files to see what’s inside\n",
        "print(\"Extracted files:\")\n",
        "print(os.listdir(extract_path))\n",
        "\n",
        "# 3) Change this once you know the correct CSV name from above print\n",
        "csv_path = os.path.join(extract_path, \"mtsamples.csv\") # Corrected filename\n",
        "\n",
        "# 4) Load dataset\n",
        "df = pd.read_csv(csv_path)\n",
        "print(\"DATAFRAME SHAPE:\", df.shape)\n",
        "print(\"COLUMNS:\", df.columns.tolist())\n",
        "print(df.head(3).to_dict(orient='records'))"
      ],
      "metadata": {
        "colab": {
          "base_uri": "https://localhost:8080/"
        },
        "id": "a7Zu0QJBcUd-",
        "outputId": "3f62697a-64b0-4375-8ae9-d6e49eeb9108"
      },
      "execution_count": 6,
      "outputs": [
        {
          "output_type": "stream",
          "name": "stderr",
          "text": [
            "[nltk_data] Downloading package punkt to /root/nltk_data...\n",
            "[nltk_data]   Package punkt is already up-to-date!\n"
          ]
        },
        {
          "output_type": "stream",
          "name": "stdout",
          "text": [
            "Extracted files:\n",
            "['mtsamples.csv']\n",
            "DATAFRAME SHAPE: (4999, 6)\n",
            "COLUMNS: ['Unnamed: 0', 'description', 'medical_specialty', 'sample_name', 'transcription', 'keywords']\n",
            "[{'Unnamed: 0': 0, 'description': ' A 23-year-old white female presents with complaint of allergies.', 'medical_specialty': ' Allergy / Immunology', 'sample_name': ' Allergic Rhinitis ', 'transcription': 'SUBJECTIVE:,  This 23-year-old white female presents with complaint of allergies.  She used to have allergies when she lived in Seattle but she thinks they are worse here.  In the past, she has tried Claritin, and Zyrtec.  Both worked for short time but then seemed to lose effectiveness.  She has used Allegra also.  She used that last summer and she began using it again two weeks ago.  It does not appear to be working very well.  She has used over-the-counter sprays but no prescription nasal sprays.  She does have asthma but doest not require daily medication for this and does not think it is flaring up.,MEDICATIONS: , Her only medication currently is Ortho Tri-Cyclen and the Allegra.,ALLERGIES: , She has no known medicine allergies.,OBJECTIVE:,Vitals:  Weight was 130 pounds and blood pressure 124/78.,HEENT:  Her throat was mildly erythematous without exudate.  Nasal mucosa was erythematous and swollen.  Only clear drainage was seen.  TMs were clear.,Neck:  Supple without adenopathy.,Lungs:  Clear.,ASSESSMENT:,  Allergic rhinitis.,PLAN:,1.  She will try Zyrtec instead of Allegra again.  Another option will be to use loratadine.  She does not think she has prescription coverage so that might be cheaper.,2.  Samples of Nasonex two sprays in each nostril given for three weeks.  A prescription was written as well.', 'keywords': 'allergy / immunology, allergic rhinitis, allergies, asthma, nasal sprays, rhinitis, nasal, erythematous, allegra, sprays, allergic,'}, {'Unnamed: 0': 1, 'description': ' Consult for laparoscopic gastric bypass.', 'medical_specialty': ' Bariatrics', 'sample_name': ' Laparoscopic Gastric Bypass Consult - 2 ', 'transcription': 'PAST MEDICAL HISTORY:, He has difficulty climbing stairs, difficulty with airline seats, tying shoes, used to public seating, and lifting objects off the floor.  He exercises three times a week at home and does cardio.  He has difficulty walking two blocks or five flights of stairs.  Difficulty with snoring.  He has muscle and joint pains including knee pain, back pain, foot and ankle pain, and swelling.  He has gastroesophageal reflux disease.,PAST SURGICAL HISTORY:, Includes reconstructive surgery on his right hand 13 years ago.  ,SOCIAL HISTORY:, He is currently single.  He has about ten drinks a year.  He had smoked significantly up until several months ago.  He now smokes less than three cigarettes a day.,FAMILY HISTORY:, Heart disease in both grandfathers, grandmother with stroke, and a grandmother with diabetes.  Denies obesity and hypertension in other family members.,CURRENT MEDICATIONS:, None.,ALLERGIES:,  He is allergic to Penicillin.,MISCELLANEOUS/EATING HISTORY:, He has been going to support groups for seven months with Lynn Holmberg in Greenwich and he is from Eastchester, New York and he feels that we are the appropriate program.  He had a poor experience with the Greenwich program.  Eating history, he is not an emotional eater.  Does not like sweets.  He likes big portions and carbohydrates.  He likes chicken and not steak.  He currently weighs 312 pounds.  Ideal body weight would be 170 pounds.  He is 142 pounds overweight.  If ,he lost 60% of his excess body weight that would be 84 pounds and he should weigh about 228.,REVIEW OF SYSTEMS: ,Negative for head, neck, heart, lungs, GI, GU, orthopedic, and skin.  Specifically denies chest pain, heart attack, coronary artery disease, congestive heart failure, arrhythmia, atrial fibrillation, pacemaker, high cholesterol, pulmonary embolism, high blood pressure, CVA, venous insufficiency, thrombophlebitis, asthma, shortness of breath, COPD, emphysema, sleep apnea, diabetes, leg and foot swelling, osteoarthritis, rheumatoid arthritis, hiatal hernia, peptic ulcer disease, gallstones, infected gallbladder, pancreatitis, fatty liver, hepatitis, hemorrhoids, rectal bleeding, polyps, incontinence of stool, urinary stress incontinence, or cancer.  Denies cellulitis, pseudotumor cerebri, meningitis, or encephalitis.,PHYSICAL EXAMINATION:, He is alert and oriented x 3.  Cranial nerves II-XII are intact.  Afebrile.  Vital Signs are stable.', 'keywords': \"bariatrics, laparoscopic gastric bypass, weight loss programs, gastric bypass, atkin's diet, weight watcher's, body weight, laparoscopic gastric, weight loss, pounds, months, weight, laparoscopic, band, loss, diets, overweight, lost\"}, {'Unnamed: 0': 2, 'description': ' Consult for laparoscopic gastric bypass.', 'medical_specialty': ' Bariatrics', 'sample_name': ' Laparoscopic Gastric Bypass Consult - 1 ', 'transcription': 'HISTORY OF PRESENT ILLNESS: , I have seen ABC today.  He is a very pleasant gentleman who is 42 years old, 344 pounds.  He is 5\\'9\".  He has a BMI of 51.  He has been overweight for ten years since the age of 33, at his highest he was 358 pounds, at his lowest 260.  He is pursuing surgical attempts of weight loss to feel good, get healthy, and begin to exercise again.  He wants to be able to exercise and play volleyball.  Physically, he is sluggish.  He gets tired quickly.  He does not go out often.  When he loses weight he always regains it and he gains back more than he lost.  His biggest weight loss is 25 pounds and it was three months before he gained it back.  He did six months of not drinking alcohol and not taking in many calories.  He has been on multiple commercial weight loss programs including Slim Fast for one month one year ago and Atkin\\'s Diet for one month two years ago.,PAST MEDICAL HISTORY: , He has difficulty climbing stairs, difficulty with airline seats, tying shoes, used to public seating, difficulty walking, high cholesterol, and high blood pressure.  He has asthma and difficulty walking two blocks or going eight to ten steps.  He has sleep apnea and snoring.  He is a diabetic, on medication.  He has joint pain, knee pain, back pain, foot and ankle pain, leg and foot swelling.  He has hemorrhoids.,PAST SURGICAL HISTORY: , Includes orthopedic or knee surgery.,SOCIAL HISTORY: , He is currently single.  He drinks alcohol ten to twelve drinks a week, but does not drink five days a week and then will binge drink.  He smokes one and a half pack a day for 15 years, but he has recently stopped smoking for the past two weeks.,FAMILY HISTORY: , Obesity, heart disease, and diabetes.  Family history is negative for hypertension and stroke.,CURRENT MEDICATIONS:,  Include Diovan, Crestor, and Tricor.,MISCELLANEOUS/EATING HISTORY:  ,He says a couple of friends of his have had heart attacks and have had died.  He used to drink everyday, but stopped two years ago.  He now only drinks on weekends.  He is on his second week of Chantix, which is a medication to come off smoking completely.  Eating, he eats bad food.  He is single.  He eats things like bacon, eggs, and cheese, cheeseburgers, fast food, eats four times a day, seven in the morning, at noon, 9 p.m., and 2 a.m.  He currently weighs 344 pounds and 5\\'9\".  His ideal body weight is 160 pounds.  He is 184 pounds overweight.  If he lost 70% of his excess body weight that would be 129 pounds and that would get him down to 215.,REVIEW OF SYSTEMS: , Negative for head, neck, heart, lungs, GI, GU, orthopedic, or skin.  He also is positive for gout.  He denies chest pain, heart attack, coronary artery disease, congestive heart failure, arrhythmia, atrial fibrillation, pacemaker, pulmonary embolism, or CVA.  He denies venous insufficiency or thrombophlebitis.  Denies shortness of breath, COPD, or emphysema.  Denies thyroid problems, hip pain, osteoarthritis, rheumatoid arthritis, GERD, hiatal hernia, peptic ulcer disease, gallstones, infected gallbladder, pancreatitis, fatty liver, hepatitis, rectal bleeding, polyps, incontinence of stool, urinary stress incontinence, or cancer.  He denies cellulitis, pseudotumor cerebri, meningitis, or encephalitis.,PHYSICAL EXAMINATION:  ,He is alert and oriented x 3.  Cranial nerves II-XII are intact.  Neck is soft and supple.  Lungs:  He has positive wheezing bilaterally.  Heart is regular rhythm and rate.  His abdomen is soft.  Extremities:  He has 1+ pitting edema.,IMPRESSION/PLAN:,  I have explained to him the risks and potential complications of laparoscopic gastric bypass in detail and these include bleeding, infection, deep venous thrombosis, pulmonary embolism, leakage from the gastrojejuno-anastomosis, jejunojejuno-anastomosis, and possible bowel obstruction among other potential complications.  He understands.  He wants to proceed with workup and evaluation for laparoscopic Roux-en-Y gastric bypass.  He will need to get a letter of approval from Dr. XYZ.  He will need to see a nutritionist and mental health worker.  He will need an upper endoscopy by either Dr. XYZ.  He will need to go to Dr. XYZ as he previously had a sleep study.  We will need another sleep study.  He will need H. pylori testing, thyroid function tests, LFTs, glycosylated hemoglobin, and fasting blood sugar.  After this is performed, we will submit him for insurance approval.', 'keywords': 'bariatrics, laparoscopic gastric bypass, heart attacks, body weight, pulmonary embolism, potential complications, sleep study, weight loss, gastric bypass, anastomosis, loss, sleep, laparoscopic, gastric, bypass, heart, pounds, weight,'}]\n"
          ]
        }
      ]
    },
    {
      "cell_type": "markdown",
      "source": [
        "Extractive Summarization with TextRank)"
      ],
      "metadata": {
        "id": "r6Nn8Wokg671"
      }
    },
    {
      "cell_type": "code",
      "source": [
        "import nltk, re\n",
        "from sumy.parsers.plaintext import PlaintextParser\n",
        "from sumy.nlp.tokenizers import Tokenizer\n",
        "from sumy.summarizers.text_rank import TextRankSummarizer\n",
        "\n",
        "nltk.download('punkt')\n",
        "nltk.download('punkt_tab') # Add this line to download the missing resource\n",
        "\n",
        "# Select text column\n",
        "text_col = \"transcription\"\n",
        "\n",
        "# Clean text function\n",
        "def clean_text(text):\n",
        "    text = str(text)\n",
        "    text = re.sub(r'\\[\\*\\*.*?\\*\\*\\]', ' ', text)   # remove MIMIC-style de-identified tags\n",
        "    text = re.sub(r'\\s+', ' ', text).strip()\n",
        "    return text\n",
        "\n",
        "# Example: take the first note\n",
        "raw_note = df[text_col].iloc[0]\n",
        "cleaned_note = clean_text(raw_note)\n",
        "\n",
        "print(\"\\n--- FIRST RAW NOTE (truncated to 800 chars) ---\\n\")\n",
        "print(raw_note[:800])\n",
        "print(\"\\n--- CLEANED NOTE (truncated to 800 chars) ---\\n\")\n",
        "print(cleaned_note[:800])\n",
        "\n",
        "# TextRank summarization\n",
        "def extractive_summary(text, sentences_count=3):\n",
        "    sents = nltk.sent_tokenize(text)\n",
        "    if len(sents) <= sentences_count:\n",
        "        return \" \".join(sents)\n",
        "    parser = PlaintextParser.from_string(text, Tokenizer(\"english\"))\n",
        "    summarizer = TextRankSummarizer()\n",
        "    sents_out = summarizer(parser.document, sentences_count)\n",
        "    return \" \".join(str(s) for s in sents_out)\n",
        "\n",
        "summary = extractive_summary(cleaned_note, sentences_count=3)\n",
        "print(\"\\n--- EXTRACTIVE SUMMARY (3 sentences) ---\\n\")\n",
        "print(summary)\n",
        "\n",
        "# Optional: save sample summaries\n",
        "df_sample = df.head(10).copy()\n",
        "df_sample[\"cleaned\"] = df_sample[text_col].astype(str).apply(clean_text)\n",
        "df_sample[\"summary_extractive\"] = df_sample[\"cleaned\"].apply(lambda t: extractive_summary(t, 3))\n",
        "df_sample[[\"sample_name\",\"medical_specialty\",\"summary_extractive\"]].to_csv(\"sample_summaries.csv\", index=False)\n",
        "print(\"\\n✅ Saved 'sample_summaries.csv' with summaries for first 10 notes\")"
      ],
      "metadata": {
        "id": "mVND0ldNcUqz",
        "colab": {
          "base_uri": "https://localhost:8080/"
        },
        "outputId": "4f743e43-f8ff-42bc-8cdb-d10d5ed71069"
      },
      "execution_count": 8,
      "outputs": [
        {
          "output_type": "stream",
          "name": "stderr",
          "text": [
            "[nltk_data] Downloading package punkt to /root/nltk_data...\n",
            "[nltk_data]   Package punkt is already up-to-date!\n",
            "[nltk_data] Downloading package punkt_tab to /root/nltk_data...\n",
            "[nltk_data]   Unzipping tokenizers/punkt_tab.zip.\n"
          ]
        },
        {
          "output_type": "stream",
          "name": "stdout",
          "text": [
            "\n",
            "--- FIRST RAW NOTE (truncated to 800 chars) ---\n",
            "\n",
            "SUBJECTIVE:,  This 23-year-old white female presents with complaint of allergies.  She used to have allergies when she lived in Seattle but she thinks they are worse here.  In the past, she has tried Claritin, and Zyrtec.  Both worked for short time but then seemed to lose effectiveness.  She has used Allegra also.  She used that last summer and she began using it again two weeks ago.  It does not appear to be working very well.  She has used over-the-counter sprays but no prescription nasal sprays.  She does have asthma but doest not require daily medication for this and does not think it is flaring up.,MEDICATIONS: , Her only medication currently is Ortho Tri-Cyclen and the Allegra.,ALLERGIES: , She has no known medicine allergies.,OBJECTIVE:,Vitals:  Weight was 130 pounds and blood pres\n",
            "\n",
            "--- CLEANED NOTE (truncated to 800 chars) ---\n",
            "\n",
            "SUBJECTIVE:, This 23-year-old white female presents with complaint of allergies. She used to have allergies when she lived in Seattle but she thinks they are worse here. In the past, she has tried Claritin, and Zyrtec. Both worked for short time but then seemed to lose effectiveness. She has used Allegra also. She used that last summer and she began using it again two weeks ago. It does not appear to be working very well. She has used over-the-counter sprays but no prescription nasal sprays. She does have asthma but doest not require daily medication for this and does not think it is flaring up.,MEDICATIONS: , Her only medication currently is Ortho Tri-Cyclen and the Allegra.,ALLERGIES: , She has no known medicine allergies.,OBJECTIVE:,Vitals: Weight was 130 pounds and blood pressure 124/7\n",
            "\n",
            "--- EXTRACTIVE SUMMARY (3 sentences) ---\n",
            "\n",
            "She used to have allergies when she lived in Seattle but she thinks they are worse here. She does have asthma but doest not require daily medication for this and does not think it is flaring up.,MEDICATIONS: , Her only medication currently is Ortho Tri-Cyclen and the Allegra.,ALLERGIES: , She has no known medicine allergies.,OBJECTIVE:,Vitals: Weight was 130 pounds and blood pressure 124/78.,HEENT: Her throat was mildly erythematous without exudate. She does not think she has prescription coverage so that might be cheaper.,2.\n",
            "\n",
            "✅ Saved 'sample_summaries.csv' with summaries for first 10 notes\n"
          ]
        }
      ]
    },
    {
      "cell_type": "markdown",
      "source": [
        "Next Step: Make Summarization Smarter\n",
        "\n",
        "Right now, you always take 3 sentences. But medical notes vary in length — some are short, some are very long. So let’s adjust dynamically.\n",
        "\n",
        "✨ Improvement 1: Adaptive Sentence Count\n",
        "\n",
        "If note < 5 sentences → return 1–2 sentences.\n",
        "\n",
        "If note is medium (5–20 sentences) → return ~3–5 sentences.\n",
        "\n",
        "If note is very long (>20 sentences) → return ~6–8 sentences."
      ],
      "metadata": {
        "id": "Zg3VOrIbigF1"
      }
    },
    {
      "cell_type": "code",
      "source": [
        "def adaptive_summary(text):\n",
        "    sents = nltk.sent_tokenize(text)\n",
        "    n = len(sents)\n",
        "\n",
        "    if n <= 5:\n",
        "        count = 1\n",
        "    elif n <= 20:\n",
        "        count = 3\n",
        "    else:\n",
        "        count = 6\n",
        "\n",
        "    parser = PlaintextParser.from_string(text, Tokenizer(\"english\"))\n",
        "    summarizer = TextRankSummarizer()\n",
        "    sents_out = summarizer(parser.document, count)\n",
        "    return \" \".join(str(s) for s in sents_out)\n",
        "\n",
        "# Test on first note\n",
        "summary_adaptive = adaptive_summary(cleaned_note)\n",
        "print(\"\\n--- ADAPTIVE SUMMARY ---\\n\")\n",
        "print(summary_adaptive)\n",
        "\n",
        "# Apply to first 10\n",
        "df_sample[\"summary_adaptive\"] = df_sample[\"cleaned\"].apply(adaptive_summary)\n",
        "df_sample[[\"sample_name\",\"medical_specialty\",\"summary_adaptive\"]].to_csv(\"sample_summaries_adaptive.csv\", index=False)\n",
        "print(\"\\n✅ Saved 'sample_summaries_adaptive.csv'\")\n"
      ],
      "metadata": {
        "colab": {
          "base_uri": "https://localhost:8080/"
        },
        "id": "59bx4FJYigsB",
        "outputId": "af013eda-c57c-4ff1-b116-ad3d2348468d"
      },
      "execution_count": 9,
      "outputs": [
        {
          "output_type": "stream",
          "name": "stdout",
          "text": [
            "\n",
            "--- ADAPTIVE SUMMARY ---\n",
            "\n",
            "She used to have allergies when she lived in Seattle but she thinks they are worse here. She does have asthma but doest not require daily medication for this and does not think it is flaring up.,MEDICATIONS: , Her only medication currently is Ortho Tri-Cyclen and the Allegra.,ALLERGIES: , She has no known medicine allergies.,OBJECTIVE:,Vitals: Weight was 130 pounds and blood pressure 124/78.,HEENT: Her throat was mildly erythematous without exudate. She does not think she has prescription coverage so that might be cheaper.,2.\n",
            "\n",
            "✅ Saved 'sample_summaries_adaptive.csv'\n"
          ]
        }
      ]
    },
    {
      "cell_type": "markdown",
      "source": [
        "Now let’s move to the next stage: Evaluation.\n",
        "Since this dataset doesn’t provide human-written reference summaries (only full transcriptions), we can use two strategies:\n",
        "\n",
        "🔹 Step 3: Evaluate Summaries\n",
        "1. Automatic Metric (ROUGE)\n",
        "\n",
        "ROUGE compares your generated summary against a reference summary.\n",
        "👉 But since we don’t have “gold” summaries in mtsamples.csv, we can:\n",
        "\n",
        "Use the description column (short case description) as a weak reference.\n",
        "\n",
        "Compare our extractive summary vs that description.\n",
        "\n",
        "Install ROUGE first:"
      ],
      "metadata": {
        "id": "StwRZX0TjbOg"
      }
    },
    {
      "cell_type": "code",
      "source": [
        "!pip install rouge-score\n"
      ],
      "metadata": {
        "colab": {
          "base_uri": "https://localhost:8080/"
        },
        "id": "JfbPUwE_imHf",
        "outputId": "ad3873a8-f0d8-4ece-a5d3-09a72b5c3425"
      },
      "execution_count": 10,
      "outputs": [
        {
          "output_type": "stream",
          "name": "stdout",
          "text": [
            "Requirement already satisfied: rouge-score in /usr/local/lib/python3.12/dist-packages (0.1.2)\n",
            "Requirement already satisfied: absl-py in /usr/local/lib/python3.12/dist-packages (from rouge-score) (1.4.0)\n",
            "Requirement already satisfied: nltk in /usr/local/lib/python3.12/dist-packages (from rouge-score) (3.9.1)\n",
            "Requirement already satisfied: numpy in /usr/local/lib/python3.12/dist-packages (from rouge-score) (1.26.4)\n",
            "Requirement already satisfied: six>=1.14.0 in /usr/local/lib/python3.12/dist-packages (from rouge-score) (1.17.0)\n",
            "Requirement already satisfied: click in /usr/local/lib/python3.12/dist-packages (from nltk->rouge-score) (8.2.1)\n",
            "Requirement already satisfied: joblib in /usr/local/lib/python3.12/dist-packages (from nltk->rouge-score) (1.5.2)\n",
            "Requirement already satisfied: regex>=2021.8.3 in /usr/local/lib/python3.12/dist-packages (from nltk->rouge-score) (2024.11.6)\n",
            "Requirement already satisfied: tqdm in /usr/local/lib/python3.12/dist-packages (from nltk->rouge-score) (4.67.1)\n"
          ]
        }
      ]
    },
    {
      "cell_type": "code",
      "source": [
        "from rouge_score import rouge_scorer\n",
        "\n",
        "scorer = rouge_scorer.RougeScorer(['rouge1', 'rougeL'], use_stemmer=True)\n",
        "\n",
        "# Example: compare summary vs description for first note\n",
        "reference = str(df[\"description\"].iloc[0])\n",
        "candidate = summary_adaptive  # from adaptive summary\n",
        "\n",
        "scores = scorer.score(reference, candidate)\n",
        "print(\"\\n--- ROUGE Evaluation ---\")\n",
        "print(\"Reference (description):\", reference)\n",
        "print(\"Candidate (summary):\", candidate)\n",
        "print(\"Scores:\", scores)\n"
      ],
      "metadata": {
        "colab": {
          "base_uri": "https://localhost:8080/"
        },
        "id": "ngMkpCWgjgrC",
        "outputId": "42536539-f206-486f-90ea-fd57b357dfc0"
      },
      "execution_count": 11,
      "outputs": [
        {
          "output_type": "stream",
          "name": "stdout",
          "text": [
            "\n",
            "--- ROUGE Evaluation ---\n",
            "Reference (description):  A 23-year-old white female presents with complaint of allergies.\n",
            "Candidate (summary): She used to have allergies when she lived in Seattle but she thinks they are worse here. She does have asthma but doest not require daily medication for this and does not think it is flaring up.,MEDICATIONS: , Her only medication currently is Ortho Tri-Cyclen and the Allegra.,ALLERGIES: , She has no known medicine allergies.,OBJECTIVE:,Vitals: Weight was 130 pounds and blood pressure 124/78.,HEENT: Her throat was mildly erythematous without exudate. She does not think she has prescription coverage so that might be cheaper.,2.\n",
            "Scores: {'rouge1': Score(precision=0.011235955056179775, recall=0.09090909090909091, fmeasure=0.02), 'rougeL': Score(precision=0.011235955056179775, recall=0.09090909090909091, fmeasure=0.02)}\n"
          ]
        }
      ]
    },
    {
      "cell_type": "markdown",
      "source": [
        "What This Tells Us\n",
        "\n",
        "Extractive summaries are correct medically but don’t match the tiny descriptions in the dataset.\n",
        "\n",
        "So, to get better scores, we need an abstractive summarizer that produces short, natural summaries closer to the dataset’s descriptions.\n",
        "\n",
        "🔹 Next Step: Abstractive Summarization (T5-small)\n",
        "\n",
        "We can try T5-small, which is lightweight and runs on Colab CPU/GPU without APIs."
      ],
      "metadata": {
        "id": "ie95tPUMkQKF"
      }
    },
    {
      "cell_type": "code",
      "source": [
        "!pip install transformers sentencepiece\n",
        "\n",
        "from transformers import T5Tokenizer, T5ForConditionalGeneration\n",
        "\n",
        "# Load model + tokenizer\n",
        "tokenizer = T5Tokenizer.from_pretrained(\"t5-small\")\n",
        "model = T5ForConditionalGeneration.from_pretrained(\"t5-small\")\n",
        "\n",
        "def abstractive_summary(text, max_len=60):\n",
        "    # Prepare input for T5\n",
        "    input_text = \"summarize: \" + text\n",
        "    inputs = tokenizer.encode(input_text, return_tensors=\"pt\", max_length=512, truncation=True)\n",
        "\n",
        "    # Generate summary\n",
        "    outputs = model.generate(\n",
        "        inputs,\n",
        "        max_length=max_len,\n",
        "        min_length=15,\n",
        "        length_penalty=2.0,\n",
        "        num_beams=4,\n",
        "        early_stopping=True\n",
        "    )\n",
        "    return tokenizer.decode(outputs[0], skip_special_tokens=True)\n",
        "\n",
        "# Test on first cleaned note\n",
        "print(\"\\n--- ABSTRACTIVE SUMMARY (T5-small) ---\\n\")\n",
        "print(abstractive_summary(cleaned_note))\n"
      ],
      "metadata": {
        "colab": {
          "base_uri": "https://localhost:8080/",
          "height": 750,
          "referenced_widgets": [
            "0361ff92c9744d7ea21b0604fb870485",
            "6ae9a176e8d247e4b56ec1b8de279a46",
            "ed64413d0b244d9d83adbce0f9dc2bdd",
            "403c7719e2924511b9ae08dac0d4e781",
            "9dc8bedfd668465ba67e98199f59bef8",
            "b0c68e0d70f9471fa467860bbadd0198",
            "19bc0f2b99204476b70f757862482fb5",
            "b3eb1a709cc34372b43696aa8b0cb6a7",
            "ff3e25a0ba084d788857e304315c5183",
            "e014bac9868e428fbaa24d5b12425081",
            "18cb43deb14043858964534983cc0734",
            "02dd147f13c7442cbc0ff32aa82194f5",
            "d7ed33b766304d088ca1785a80545ef7",
            "d3a77e53ad354a29ad14de2567bc948e",
            "65fe5e7a9d3a4e5ea1ed25030b215727",
            "c5e52d61bab046d8a38aad860ec5e69f",
            "790ba0244205417caf0c0e9322e8bb59",
            "4762412286a344129e681f98903f1794",
            "a5027736c5214323b7b16004b2e42278",
            "00fc1146ff624782b0328cc387228300",
            "5dd3f4544b754045a356dda43b1e2dcd",
            "8173cf22e7ce4983ad351961fc3dae32",
            "c84a3a53ca174f00b930bea3da0da78f",
            "3475765c34034f859b7c4364c68e561e",
            "6f443a76d4874021b2566e4be8988b10",
            "3e1279f2fa204f10b2116f9cd20be2a9",
            "3d68777a278e471db59061bcef618314",
            "2a275bb17d404d62a88e2ed7d2cc6959",
            "71120ea088e2475283cf70d6f926a64c",
            "c85d064d2c5d4a818d7992e3bc35829a",
            "7022bc6b041a4949b07285eaf94dd5cb",
            "3ecc3df6f0054a9d922569c34ccda904",
            "8091371b20954f0bbb0b0fe4f741ae9c",
            "7d597fb589004c1e8c35fa017dc21f72",
            "38c0c3d9925f4094b2bb93a24020ed91",
            "cb2ef160aa19446893c9e5fce5bd63e3",
            "813e250033db4f87874b0a88eb95d580",
            "512a561fbcd945968ce72c3a7b5d8a22",
            "283fa49302b04f7d9d7743c86e368aef",
            "6471d88fef8848e78cd762ad30a91fc9",
            "363158d740f940efa2faa985de66554b",
            "35cba7f11e064f7a9eec726d8021df34",
            "bea88609185f48c891364d5453c50673",
            "fb26f9a18ee94e5abed20827c95879a5",
            "eb6845669aec4c52a30770edb6f28cf0",
            "135764ab6f85413d882cfabd07c32a11",
            "4103bd1add644cc09846067b448e648d",
            "9e43403b53e44c22b86d5ad664dec50c",
            "685a9a0e74fe41c1842c919f1ff6fb11",
            "c4e8d6556a704516a49f1737137c5217",
            "35d1ac5ba770427dab3c3f20386b4d4d",
            "e5e2ba49e33745d49e538ac2e0b4dcf8",
            "a96eaa4e91a14692862b8c0a257db5b1",
            "b23e7952c2934c029ca55af73ce1fb31",
            "29e2737808c74a7491d0593436c1c329",
            "d990ce96a05947778e3bdc49d80bb5a3",
            "441d909699c84a4f8352cde1111a8429",
            "12837dbd27424081a7a5d23a25199330",
            "210e07e3e0d9461aa932eb30af9ac39c",
            "b79f1637f899460da4e2ce4a03dc058c",
            "359f113c36b741679889e8068019ce0e",
            "09aa7f3c5525407f9784e156160cb766",
            "fb0daabcf1e4412e8edbd7edb6656451",
            "f9c2654a9bc5432ea77ed3875d1a8bc4",
            "3ae5554ad4e9421a9c5f30a12b4baf66",
            "d994e2117688447da28c9d34283f6a1a"
          ]
        },
        "id": "DCDgbMFfjmyT",
        "outputId": "513fa699-40f7-4f4f-af78-dbd10849e3c5"
      },
      "execution_count": 12,
      "outputs": [
        {
          "output_type": "stream",
          "name": "stdout",
          "text": [
            "Requirement already satisfied: transformers in /usr/local/lib/python3.12/dist-packages (4.56.1)\n",
            "Requirement already satisfied: sentencepiece in /usr/local/lib/python3.12/dist-packages (0.2.1)\n",
            "Requirement already satisfied: filelock in /usr/local/lib/python3.12/dist-packages (from transformers) (3.19.1)\n",
            "Requirement already satisfied: huggingface-hub<1.0,>=0.34.0 in /usr/local/lib/python3.12/dist-packages (from transformers) (0.35.0)\n",
            "Requirement already satisfied: numpy>=1.17 in /usr/local/lib/python3.12/dist-packages (from transformers) (1.26.4)\n",
            "Requirement already satisfied: packaging>=20.0 in /usr/local/lib/python3.12/dist-packages (from transformers) (25.0)\n",
            "Requirement already satisfied: pyyaml>=5.1 in /usr/local/lib/python3.12/dist-packages (from transformers) (6.0.2)\n",
            "Requirement already satisfied: regex!=2019.12.17 in /usr/local/lib/python3.12/dist-packages (from transformers) (2024.11.6)\n",
            "Requirement already satisfied: requests in /usr/local/lib/python3.12/dist-packages (from transformers) (2.32.4)\n",
            "Requirement already satisfied: tokenizers<=0.23.0,>=0.22.0 in /usr/local/lib/python3.12/dist-packages (from transformers) (0.22.0)\n",
            "Requirement already satisfied: safetensors>=0.4.3 in /usr/local/lib/python3.12/dist-packages (from transformers) (0.6.2)\n",
            "Requirement already satisfied: tqdm>=4.27 in /usr/local/lib/python3.12/dist-packages (from transformers) (4.67.1)\n",
            "Requirement already satisfied: fsspec>=2023.5.0 in /usr/local/lib/python3.12/dist-packages (from huggingface-hub<1.0,>=0.34.0->transformers) (2025.3.0)\n",
            "Requirement already satisfied: typing-extensions>=3.7.4.3 in /usr/local/lib/python3.12/dist-packages (from huggingface-hub<1.0,>=0.34.0->transformers) (4.15.0)\n",
            "Requirement already satisfied: hf-xet<2.0.0,>=1.1.3 in /usr/local/lib/python3.12/dist-packages (from huggingface-hub<1.0,>=0.34.0->transformers) (1.1.10)\n",
            "Requirement already satisfied: charset_normalizer<4,>=2 in /usr/local/lib/python3.12/dist-packages (from requests->transformers) (3.4.3)\n",
            "Requirement already satisfied: idna<4,>=2.5 in /usr/local/lib/python3.12/dist-packages (from requests->transformers) (3.10)\n",
            "Requirement already satisfied: urllib3<3,>=1.21.1 in /usr/local/lib/python3.12/dist-packages (from requests->transformers) (2.5.0)\n",
            "Requirement already satisfied: certifi>=2017.4.17 in /usr/local/lib/python3.12/dist-packages (from requests->transformers) (2025.8.3)\n"
          ]
        },
        {
          "output_type": "stream",
          "name": "stderr",
          "text": [
            "/usr/local/lib/python3.12/dist-packages/huggingface_hub/utils/_auth.py:94: UserWarning: \n",
            "The secret `HF_TOKEN` does not exist in your Colab secrets.\n",
            "To authenticate with the Hugging Face Hub, create a token in your settings tab (https://huggingface.co/settings/tokens), set it as secret in your Google Colab and restart your session.\n",
            "You will be able to reuse this secret in all of your notebooks.\n",
            "Please note that authentication is recommended but still optional to access public models or datasets.\n",
            "  warnings.warn(\n"
          ]
        },
        {
          "output_type": "display_data",
          "data": {
            "text/plain": [
              "tokenizer_config.json:   0%|          | 0.00/2.32k [00:00<?, ?B/s]"
            ],
            "application/vnd.jupyter.widget-view+json": {
              "version_major": 2,
              "version_minor": 0,
              "model_id": "0361ff92c9744d7ea21b0604fb870485"
            }
          },
          "metadata": {}
        },
        {
          "output_type": "display_data",
          "data": {
            "text/plain": [
              "spiece.model:   0%|          | 0.00/792k [00:00<?, ?B/s]"
            ],
            "application/vnd.jupyter.widget-view+json": {
              "version_major": 2,
              "version_minor": 0,
              "model_id": "02dd147f13c7442cbc0ff32aa82194f5"
            }
          },
          "metadata": {}
        },
        {
          "output_type": "display_data",
          "data": {
            "text/plain": [
              "tokenizer.json:   0%|          | 0.00/1.39M [00:00<?, ?B/s]"
            ],
            "application/vnd.jupyter.widget-view+json": {
              "version_major": 2,
              "version_minor": 0,
              "model_id": "c84a3a53ca174f00b930bea3da0da78f"
            }
          },
          "metadata": {}
        },
        {
          "output_type": "stream",
          "name": "stderr",
          "text": [
            "You are using the default legacy behaviour of the <class 'transformers.models.t5.tokenization_t5.T5Tokenizer'>. This is expected, and simply means that the `legacy` (previous) behavior will be used so nothing changes for you. If you want to use the new behaviour, set `legacy=False`. This should only be set if you understand what it means, and thoroughly read the reason why this was added as explained in https://github.com/huggingface/transformers/pull/24565\n"
          ]
        },
        {
          "output_type": "display_data",
          "data": {
            "text/plain": [
              "config.json:   0%|          | 0.00/1.21k [00:00<?, ?B/s]"
            ],
            "application/vnd.jupyter.widget-view+json": {
              "version_major": 2,
              "version_minor": 0,
              "model_id": "7d597fb589004c1e8c35fa017dc21f72"
            }
          },
          "metadata": {}
        },
        {
          "output_type": "display_data",
          "data": {
            "text/plain": [
              "model.safetensors:   0%|          | 0.00/242M [00:00<?, ?B/s]"
            ],
            "application/vnd.jupyter.widget-view+json": {
              "version_major": 2,
              "version_minor": 0,
              "model_id": "eb6845669aec4c52a30770edb6f28cf0"
            }
          },
          "metadata": {}
        },
        {
          "output_type": "display_data",
          "data": {
            "text/plain": [
              "generation_config.json:   0%|          | 0.00/147 [00:00<?, ?B/s]"
            ],
            "application/vnd.jupyter.widget-view+json": {
              "version_major": 2,
              "version_minor": 0,
              "model_id": "d990ce96a05947778e3bdc49d80bb5a3"
            }
          },
          "metadata": {}
        },
        {
          "output_type": "stream",
          "name": "stdout",
          "text": [
            "\n",
            "--- ABSTRACTIVE SUMMARY (T5-small) ---\n",
            "\n",
            "the 23-year-old white female has no known medicine allergies. she has tried Claritin, and Zyrtec. she has no prescription nasal sprays.\n"
          ]
        }
      ]
    },
    {
      "cell_type": "markdown",
      "source": [
        "his is way closer to the dataset’s descriptions than the extractive version, so your ROUGE scores will definitely improve.\n",
        "\n",
        "🔹 Next Step Options\n",
        "\n",
        "Now you can choose what to do next:\n",
        "\n",
        "Run ROUGE evaluation again (abstractive vs description)\n",
        "→ You’ll see higher precision and f-measure."
      ],
      "metadata": {
        "id": "KuVDAOialaes"
      }
    },
    {
      "cell_type": "code",
      "source": [
        "candidate_abs = abstractive_summary(cleaned_note)\n",
        "scores_abs = scorer.score(reference, candidate_abs)\n",
        "print(\"\\n--- ROUGE for Abstractive ---\")\n",
        "print(\"Reference:\", reference)\n",
        "print(\"Candidate:\", candidate_abs)\n",
        "print(\"Scores:\", scores_abs)\n"
      ],
      "metadata": {
        "colab": {
          "base_uri": "https://localhost:8080/"
        },
        "id": "qKAmOqASkXdo",
        "outputId": "1cffe5eb-1bef-479a-abfe-3f8b374b01d2"
      },
      "execution_count": 13,
      "outputs": [
        {
          "output_type": "stream",
          "name": "stdout",
          "text": [
            "\n",
            "--- ROUGE for Abstractive ---\n",
            "Reference:  A 23-year-old white female presents with complaint of allergies.\n",
            "Candidate: the 23-year-old white female has no known medicine allergies. she has tried Claritin, and Zyrtec. she has no prescription nasal sprays.\n",
            "Scores: {'rouge1': Score(precision=0.2608695652173913, recall=0.5454545454545454, fmeasure=0.3529411764705882), 'rougeL': Score(precision=0.2608695652173913, recall=0.5454545454545454, fmeasure=0.3529411764705882)}\n"
          ]
        }
      ]
    },
    {
      "cell_type": "markdown",
      "source": [
        "Batch Summarization\n",
        "\n",
        "Summarize first 50 or 100 notes with T5-small.\n",
        "\n",
        "Save results to a CSV (abstractive_summaries.csv)."
      ],
      "metadata": {
        "id": "a4p-PCYzll3V"
      }
    },
    {
      "cell_type": "code",
      "source": [
        "df_sample[\"summary_abstractive\"] = df_sample[\"cleaned\"].apply(lambda x: abstractive_summary(x, max_len=60))\n",
        "df_sample[[\"sample_name\",\"medical_specialty\",\"description\",\"summary_abstractive\"]].to_csv(\"abstractive_summaries.csv\", index=False)\n",
        "print(\"✅ Saved abstractive summaries for sample notes\")\n"
      ],
      "metadata": {
        "colab": {
          "base_uri": "https://localhost:8080/"
        },
        "id": "Yn3ABE53lfdl",
        "outputId": "6b05153c-d9b6-4a74-e5ff-475e56525c25"
      },
      "execution_count": 14,
      "outputs": [
        {
          "output_type": "stream",
          "name": "stdout",
          "text": [
            "✅ Saved abstractive summaries for sample notes\n"
          ]
        }
      ]
    },
    {
      "cell_type": "markdown",
      "source": [
        "Now you have 3 strong pieces in place (preprocessing → summarization → evaluation). From here, you can:\n",
        "\n",
        "Evaluate on the whole batch\n",
        "\n",
        "Compute average ROUGE across 50–100 summaries."
      ],
      "metadata": {
        "id": "VKPy5ZgynCvD"
      }
    },
    {
      "cell_type": "code",
      "source": [
        "scores_list = []\n",
        "for i in range(len(df_sample)):\n",
        "    ref = str(df_sample[\"description\"].iloc[i])\n",
        "    cand = df_sample[\"summary_abstractive\"].iloc[i]\n",
        "    scores = scorer.score(ref, cand)\n",
        "    scores_list.append(scores[\"rouge1\"].fmeasure)\n",
        "\n",
        "print(\"Average ROUGE-1 F1 across sample:\", sum(scores_list)/len(scores_list))\n"
      ],
      "metadata": {
        "colab": {
          "base_uri": "https://localhost:8080/"
        },
        "id": "_lchRSr4lrBR",
        "outputId": "11304542-e4f4-4786-b6ed-13387c4ba62b"
      },
      "execution_count": 15,
      "outputs": [
        {
          "output_type": "stream",
          "name": "stdout",
          "text": [
            "Average ROUGE-1 F1 across sample: 0.1597356231099722\n"
          ]
        }
      ]
    },
    {
      "cell_type": "markdown",
      "source": [
        "Compare Extractive vs Abstractive (side by side)\n",
        "\n",
        "Make a table with description + extractive + abstractive summary."
      ],
      "metadata": {
        "id": "1WjhBsWTnOrl"
      }
    },
    {
      "cell_type": "code",
      "source": [
        "df_compare = df_sample[[\"sample_name\",\"description\"]].copy()\n",
        "df_compare[\"extractive\"] = df_sample[\"summary_adaptive\"]\n",
        "df_compare[\"abstractive\"] = df_sample[\"summary_abstractive\"]\n",
        "df_compare.to_csv(\"comparison_summaries.csv\", index=False)\n",
        "print(\"✅ Saved comparison file\")\n"
      ],
      "metadata": {
        "colab": {
          "base_uri": "https://localhost:8080/"
        },
        "id": "Y8jItZU8nHV8",
        "outputId": "cdb2323b-be20-405b-e5f3-f5108f0b7a52"
      },
      "execution_count": 16,
      "outputs": [
        {
          "output_type": "stream",
          "name": "stdout",
          "text": [
            "✅ Saved comparison file\n"
          ]
        }
      ]
    },
    {
      "cell_type": "markdown",
      "source": [
        "1. ROUGE Score Comparison (Bar Chart)"
      ],
      "metadata": {
        "id": "dotOhC3pocQH"
      }
    },
    {
      "cell_type": "code",
      "source": [
        "import matplotlib.pyplot as plt\n",
        "\n",
        "# ROUGE scores from your evaluation\n",
        "rouge_scores = {\n",
        "    \"Extractive\": 0.02,   # F1\n",
        "    \"Abstractive\": 0.16   # F1\n",
        "}\n",
        "\n",
        "plt.figure(figsize=(6,5))\n",
        "plt.bar(rouge_scores.keys(), rouge_scores.values(), color=['skyblue','lightgreen'])\n",
        "plt.ylabel(\"ROUGE-1 F1 Score\")\n",
        "plt.title(\"Extractive vs Abstractive Summarization\")\n",
        "plt.ylim(0, 0.2)\n",
        "\n",
        "# Add values on top\n",
        "for i, (method, score) in enumerate(rouge_scores.items()):\n",
        "    plt.text(i, score + 0.005, f\"{score:.2f}\", ha='center', fontsize=12)\n",
        "\n",
        "plt.show()\n"
      ],
      "metadata": {
        "colab": {
          "base_uri": "https://localhost:8080/",
          "height": 468
        },
        "id": "awWaTWHOnTUl",
        "outputId": "7577fefa-774e-44dd-a975-a6b2b205fb62"
      },
      "execution_count": 17,
      "outputs": [
        {
          "output_type": "display_data",
          "data": {
            "text/plain": [
              "<Figure size 600x500 with 1 Axes>"
            ],
            "image/png": "[encoded data removed]"
          },
          "metadata": {}
        }
      ]
    },
    {
      "cell_type": "markdown",
      "source": [
        "2. Side-by-Side Text Comparison (Table Format)\n",
        "\n",
        "This will show Description vs Extractive vs Abstractive for a few samples from your CSV."
      ],
      "metadata": {
        "id": "1Z9clOv6offv"
      }
    },
    {
      "cell_type": "code",
      "source": [
        "import pandas as pd\n",
        "import matplotlib.pyplot as plt\n",
        "\n",
        "# Load your saved comparison file\n",
        "df = pd.read_csv(\"comparison_summaries.csv\")\n",
        "\n",
        "# Take first 3 examples for visualization\n",
        "sample_df = df[['description', 'extractive', 'abstractive']].head(3)\n",
        "\n",
        "# Display as a text table\n",
        "for i, row in sample_df.iterrows():\n",
        "    print(f\"\\n=== SAMPLE {i+1} ===\")\n",
        "    print(f\"📌 Description: {row['description']}\")\n",
        "    print(f\"✂️ Extractive: {row['extractive']}\")\n",
        "    print(f\"🤖 Abstractive: {row['abstractive']}\")\n"
      ],
      "metadata": {
        "colab": {
          "base_uri": "https://localhost:8080/"
        },
        "id": "YznTufC3oVcK",
        "outputId": "d243995d-2322-43ba-b490-5feafd5b92db"
      },
      "execution_count": 18,
      "outputs": [
        {
          "output_type": "stream",
          "name": "stdout",
          "text": [
            "\n",
            "=== SAMPLE 1 ===\n",
            "📌 Description:  A 23-year-old white female presents with complaint of allergies.\n",
            "✂️ Extractive: She used to have allergies when she lived in Seattle but she thinks they are worse here. She does have asthma but doest not require daily medication for this and does not think it is flaring up.,MEDICATIONS: , Her only medication currently is Ortho Tri-Cyclen and the Allegra.,ALLERGIES: , She has no known medicine allergies.,OBJECTIVE:,Vitals: Weight was 130 pounds and blood pressure 124/78.,HEENT: Her throat was mildly erythematous without exudate. She does not think she has prescription coverage so that might be cheaper.,2.\n",
            "🤖 Abstractive: the 23-year-old white female has no known medicine allergies. she has tried Claritin, and Zyrtec. she has no prescription nasal sprays.\n",
            "\n",
            "=== SAMPLE 2 ===\n",
            "📌 Description:  Consult for laparoscopic gastric bypass.\n",
            "✂️ Extractive: PAST MEDICAL HISTORY:, He has difficulty climbing stairs, difficulty with airline seats, tying shoes, used to public seating, and lifting objects off the floor. He has muscle and joint pains including knee pain, back pain, foot and ankle pain, and swelling. He now smokes less than three cigarettes a day.,FAMILY HISTORY:, Heart disease in both grandfathers, grandmother with stroke, and a grandmother with diabetes. Denies obesity and hypertension in other family members.,CURRENT MEDICATIONS:, None.,ALLERGIES:, He is allergic to Penicillin.,MISCELLANEOUS/EATING HISTORY:, He has been going to support groups for seven months with Lynn Holmberg in Greenwich and he is from Eastchester, New York and he feels that we are the appropriate program. If ,he lost 60% of his excess body weight that would be 84 pounds and he should weigh about 228.,REVIEW OF SYSTEMS: ,Negative for head, neck, heart, lungs, GI, GU, orthopedic, and skin. Specifically denies chest pain, heart attack, coronary artery disease, congestive heart failure, arrhythmia, atrial fibrillation, pacemaker, high cholesterol, pulmonary embolism, high blood pressure, CVA, venous insufficiency, thrombophlebitis, asthma, shortness of breath, COPD, emphysema, sleep apnea, diabetes, leg and foot swelling, osteoarthritis, rheumatoid arthritis, hiatal hernia, peptic ulcer disease, gallstones, infected gallbladder, pancreatitis, fatty liver, hepatitis, hemorrhoids, rectal bleeding, polyps, incontinence of stool, urinary stress incontinence, or cancer.\n",
            "🤖 Abstractive: he has gastroesophageal reflux disease and is currently single. he has about ten drinks a year.\n",
            "\n",
            "=== SAMPLE 3 ===\n",
            "📌 Description:  Consult for laparoscopic gastric bypass.\n",
            "✂️ Extractive: When he loses weight he always regains it and he gains back more than he lost. He has been on multiple commercial weight loss programs including Slim Fast for one month one year ago and Atkin's Diet for one month two years ago.,PAST MEDICAL HISTORY: , He has difficulty climbing stairs, difficulty with airline seats, tying shoes, used to public seating, difficulty walking, high cholesterol, and high blood pressure. He smokes one and a half pack a day for 15 years, but he has recently stopped smoking for the past two weeks.,FAMILY HISTORY: , Obesity, heart disease, and diabetes. Family history is negative for hypertension and stroke.,CURRENT MEDICATIONS:, Include Diovan, Crestor, and Tricor.,MISCELLANEOUS/EATING HISTORY: ,He says a couple of friends of his have had heart attacks and have had died. Extremities: He has 1+ pitting edema.,IMPRESSION/PLAN:, I have explained to him the risks and potential complications of laparoscopic gastric bypass in detail and these include bleeding, infection, deep venous thrombosis, pulmonary embolism, leakage from the gastrojejuno-anastomosis, jejunojejuno-anastomosis, and possible bowel obstruction among other potential complications. He will need to go to Dr. XYZ as he previously had a sleep study.\n",
            "🤖 Abstractive: he has been overweight for ten years since the age of 33, at his highest he was 358 pounds, at his lowest 260. he is pursuing surgical attempts of weight loss to feel good, get healthy, and begin to exercise again.\n"
          ]
        }
      ]
    },
    {
      "cell_type": "markdown",
      "source": [
        "3. ROUGE Distribution (Optional: if you saved multiple sample scores)"
      ],
      "metadata": {
        "id": "rGqDgsqdpCsc"
      }
    },
    {
      "cell_type": "code",
      "source": [
        "import seaborn as sns\n",
        "\n",
        "# Example: if you saved rouge_1_f for each sample in a list\n",
        "extractive_scores = [0.02, 0.05, 0.01, 0.03, 0.04]  # replace with your list\n",
        "abstractive_scores = [0.12, 0.18, 0.15, 0.16, 0.17]  # replace with your list\n",
        "\n",
        "plt.figure(figsize=(7,5))\n",
        "sns.boxplot(data=[extractive_scores, abstractive_scores], palette=\"pastel\")\n",
        "plt.xticks([0, 1], [\"Extractive\", \"Abstractive\"])\n",
        "plt.ylabel(\"ROUGE-1 F1 Score\")\n",
        "plt.title(\"Score Distribution per Method\")\n",
        "plt.show()\n"
      ],
      "metadata": {
        "colab": {
          "base_uri": "https://localhost:8080/",
          "height": 468
        },
        "id": "ShrQ_Xo3otMu",
        "outputId": "4284fd54-ddaa-484b-dc54-767d8cff4fe5"
      },
      "execution_count": 19,
      "outputs": [
        {
          "output_type": "display_data",
          "data": {
            "text/plain": [
              "<Figure size 700x500 with 1 Axes>"
            ],
            "image/png": "[encoded data removed]"
          },
          "metadata": {}
        }
      ]
    },
    {
      "cell_type": "code",
      "source": [
        "import pandas as pd\n",
        "import matplotlib.pyplot as plt\n",
        "from IPython.display import display, HTML\n",
        "\n",
        "# Load your comparison file\n",
        "df = pd.read_csv(\"comparison_summaries.csv\")\n",
        "\n",
        "# Pick first 3 samples for display\n",
        "sample_df = df[['description','extractive','abstractive']].head(3)\n",
        "\n",
        "# === PART 1: Nicely formatted table ===\n",
        "def highlight_text(val):\n",
        "    return 'background-color: #f9f9f9; padding:6px; border:1px solid #ddd;'\n",
        "\n",
        "styled = (sample_df.style\n",
        "          .set_table_styles([{'selector': 'th',\n",
        "                              'props': [('background-color', '#4CAF50'),\n",
        "                                        ('color', 'white'),\n",
        "                                        ('text-align', 'center'),\n",
        "                                        ('padding','8px')]}])\n",
        "          .map(highlight_text))\n",
        "\n",
        "display(HTML(styled.to_html()))\n",
        "\n",
        "# === PART 2: Word count comparison chart ===\n",
        "# Add new columns with word counts\n",
        "sample_df['desc_len'] = sample_df['description'].apply(lambda x: len(str(x).split()))\n",
        "sample_df['extract_len'] = sample_df['extractive'].apply(lambda x: len(str(x).split()))\n",
        "sample_df['abstr_len'] = sample_df['abstractive'].apply(lambda x: len(str(x).split()))\n",
        "\n",
        "# Plot\n",
        "sample_df[['desc_len','extract_len','abstr_len']].plot(\n",
        "    kind='bar', figsize=(10,5), width=0.7)\n",
        "\n",
        "plt.title(\"Word Count Comparison (Description vs Extractive vs Abstractive)\")\n",
        "plt.xlabel(\"Sample Index\")\n",
        "plt.ylabel(\"Word Count\")\n",
        "plt.xticks(rotation=0)\n",
        "plt.legend([\"Description\",\"Extractive\",\"Abstractive\"])\n",
        "plt.show()\n"
      ],
      "metadata": {
        "colab": {
          "base_uri": "https://localhost:8080/",
          "height": 1000
        },
        "id": "ihBZJ21dpt7O",
        "outputId": "95ef0d45-202f-4470-e45f-bd2fa32f3a79"
      },
      "execution_count": 22,
      "outputs": [
        {
          "output_type": "display_data",
          "data": {
            "text/plain": [
              "<IPython.core.display.HTML object>"
            ],
            "text/html": [
              "<style type=\"text/css\">\n",
              "#T_ef21c th {\n",
              "  background-color: #4CAF50;\n",
              "  color: white;\n",
              "  text-align: center;\n",
              "  padding: 8px;\n",
              "}\n",
              "#T_ef21c_row0_col0, #T_ef21c_row0_col1, #T_ef21c_row0_col2, #T_ef21c_row1_col0, #T_ef21c_row1_col1, #T_ef21c_row1_col2, #T_ef21c_row2_col0, #T_ef21c_row2_col1, #T_ef21c_row2_col2 {\n",
              "  background-color: #f9f9f9;\n",
              "  padding: 6px;\n",
              "  border: 1px solid #ddd;\n",
              "}\n",
              "</style>\n",
              "<table id=\"T_ef21c\">\n",
              "  <thead>\n",
              "    <tr>\n",
              "      <th class=\"blank level0\" >&nbsp;</th>\n",
              "      <th id=\"T_ef21c_level0_col0\" class=\"col_heading level0 col0\" >description</th>\n",
              "      <th id=\"T_ef21c_level0_col1\" class=\"col_heading level0 col1\" >extractive</th>\n",
              "      <th id=\"T_ef21c_level0_col2\" class=\"col_heading level0 col2\" >abstractive</th>\n",
              "    </tr>\n",
              "  </thead>\n",
              "  <tbody>\n",
              "    <tr>\n",
              "      <th id=\"T_ef21c_level0_row0\" class=\"row_heading level0 row0\" >0</th>\n",
              "      <td id=\"T_ef21c_row0_col0\" class=\"data row0 col0\" > A 23-year-old white female presents with complaint of allergies.</td>\n",
              "      <td id=\"T_ef21c_row0_col1\" class=\"data row0 col1\" >She used to have allergies when she lived in Seattle but she thinks they are worse here. She does have asthma but doest not require daily medication for this and does not think it is flaring up.,MEDICATIONS: , Her only medication currently is Ortho Tri-Cyclen and the Allegra.,ALLERGIES: , She has no known medicine allergies.,OBJECTIVE:,Vitals: Weight was 130 pounds and blood pressure 124/78.,HEENT: Her throat was mildly erythematous without exudate. She does not think she has prescription coverage so that might be cheaper.,2.</td>\n",
              "      <td id=\"T_ef21c_row0_col2\" class=\"data row0 col2\" >the 23-year-old white female has no known medicine allergies. she has tried Claritin, and Zyrtec. she has no prescription nasal sprays.</td>\n",
              "    </tr>\n",
              "    <tr>\n",
              "      <th id=\"T_ef21c_level0_row1\" class=\"row_heading level0 row1\" >1</th>\n",
              "      <td id=\"T_ef21c_row1_col0\" class=\"data row1 col0\" > Consult for laparoscopic gastric bypass.</td>\n",
              "      <td id=\"T_ef21c_row1_col1\" class=\"data row1 col1\" >PAST MEDICAL HISTORY:, He has difficulty climbing stairs, difficulty with airline seats, tying shoes, used to public seating, and lifting objects off the floor. He has muscle and joint pains including knee pain, back pain, foot and ankle pain, and swelling. He now smokes less than three cigarettes a day.,FAMILY HISTORY:, Heart disease in both grandfathers, grandmother with stroke, and a grandmother with diabetes. Denies obesity and hypertension in other family members.,CURRENT MEDICATIONS:, None.,ALLERGIES:, He is allergic to Penicillin.,MISCELLANEOUS/EATING HISTORY:, He has been going to support groups for seven months with Lynn Holmberg in Greenwich and he is from Eastchester, New York and he feels that we are the appropriate program. If ,he lost 60% of his excess body weight that would be 84 pounds and he should weigh about 228.,REVIEW OF SYSTEMS: ,Negative for head, neck, heart, lungs, GI, GU, orthopedic, and skin. Specifically denies chest pain, heart attack, coronary artery disease, congestive heart failure, arrhythmia, atrial fibrillation, pacemaker, high cholesterol, pulmonary embolism, high blood pressure, CVA, venous insufficiency, thrombophlebitis, asthma, shortness of breath, COPD, emphysema, sleep apnea, diabetes, leg and foot swelling, osteoarthritis, rheumatoid arthritis, hiatal hernia, peptic ulcer disease, gallstones, infected gallbladder, pancreatitis, fatty liver, hepatitis, hemorrhoids, rectal bleeding, polyps, incontinence of stool, urinary stress incontinence, or cancer.</td>\n",
              "      <td id=\"T_ef21c_row1_col2\" class=\"data row1 col2\" >he has gastroesophageal reflux disease and is currently single. he has about ten drinks a year.</td>\n",
              "    </tr>\n",
              "    <tr>\n",
              "      <th id=\"T_ef21c_level0_row2\" class=\"row_heading level0 row2\" >2</th>\n",
              "      <td id=\"T_ef21c_row2_col0\" class=\"data row2 col0\" > Consult for laparoscopic gastric bypass.</td>\n",
              "      <td id=\"T_ef21c_row2_col1\" class=\"data row2 col1\" >When he loses weight he always regains it and he gains back more than he lost. He has been on multiple commercial weight loss programs including Slim Fast for one month one year ago and Atkin's Diet for one month two years ago.,PAST MEDICAL HISTORY: , He has difficulty climbing stairs, difficulty with airline seats, tying shoes, used to public seating, difficulty walking, high cholesterol, and high blood pressure. He smokes one and a half pack a day for 15 years, but he has recently stopped smoking for the past two weeks.,FAMILY HISTORY: , Obesity, heart disease, and diabetes. Family history is negative for hypertension and stroke.,CURRENT MEDICATIONS:, Include Diovan, Crestor, and Tricor.,MISCELLANEOUS/EATING HISTORY: ,He says a couple of friends of his have had heart attacks and have had died. Extremities: He has 1+ pitting edema.,IMPRESSION/PLAN:, I have explained to him the risks and potential complications of laparoscopic gastric bypass in detail and these include bleeding, infection, deep venous thrombosis, pulmonary embolism, leakage from the gastrojejuno-anastomosis, jejunojejuno-anastomosis, and possible bowel obstruction among other potential complications. He will need to go to Dr. XYZ as he previously had a sleep study.</td>\n",
              "      <td id=\"T_ef21c_row2_col2\" class=\"data row2 col2\" >he has been overweight for ten years since the age of 33, at his highest he was 358 pounds, at his lowest 260. he is pursuing surgical attempts of weight loss to feel good, get healthy, and begin to exercise again.</td>\n",
              "    </tr>\n",
              "  </tbody>\n",
              "</table>\n"
            ]
          },
          "metadata": {}
        },
        {
          "output_type": "display_data",
          "data": {
            "text/plain": [
              "<Figure size 1000x500 with 1 Axes>"
            ],
            "image/png": "[encoded data removed]"
          },
          "metadata": {}
        }
      ]
    },
    {
      "cell_type": "markdown",
      "source": [
        "Abstractive | ROUGE-1 F1 (Extractive vs. Description) | ROUGE-1 F1 (Abstractive vs. Description) all in one clean table, plus the chart for length."
      ],
      "metadata": {
        "id": "POeBx3b4qk0y"
      }
    },
    {
      "cell_type": "code",
      "source": [
        "import pandas as pd\n",
        "import matplotlib.pyplot as plt\n",
        "from rouge_score import rouge_scorer\n",
        "from IPython.display import display, HTML\n",
        "\n",
        "# Load your comparison file\n",
        "df = pd.read_csv(\"comparison_summaries.csv\")\n",
        "\n",
        "# Pick first 3 samples\n",
        "sample_df = df[['description','extractive','abstractive']].head(3)\n",
        "\n",
        "# === PART 1: Compute ROUGE scores ===\n",
        "scorer = rouge_scorer.RougeScorer(['rouge1'], use_stemmer=True)\n",
        "\n",
        "rouge_extract = []\n",
        "rouge_abstr = []\n",
        "\n",
        "for i, row in sample_df.iterrows():\n",
        "    ref = str(row['description'])\n",
        "    ext = str(row['extractive'])\n",
        "    abs_ = str(row['abstractive'])\n",
        "\n",
        "    ext_score = scorer.score(ref, ext)['rouge1'].fmeasure\n",
        "    abs_score = scorer.score(ref, abs_)['rouge1'].fmeasure\n",
        "\n",
        "    rouge_extract.append(round(ext_score, 3))\n",
        "    rouge_abstr.append(round(abs_score, 3))\n",
        "\n",
        "sample_df['ROUGE-1 F1 (Extractive)'] = rouge_extract\n",
        "sample_df['ROUGE-1 F1 (Abstractive)'] = rouge_abstr\n",
        "\n",
        "# === PART 2: Styled comparison table ===\n",
        "def highlight_text(val):\n",
        "    return 'background-color: #f9f9f9; padding:6px; border:1px solid #ddd;'\n",
        "\n",
        "styled = (sample_df.style\n",
        "          .set_table_styles([{'selector': 'th',\n",
        "                              'props': [('background-color', '#4CAF50'),\n",
        "                                        ('color', 'white'),\n",
        "                                        ('text-align', 'center'),\n",
        "                                        ('padding','8px')]}])\n",
        "          .map(highlight_text, subset=['description','extractive','abstractive'])\n",
        "          )\n",
        "\n",
        "display(HTML(styled.to_html()))\n",
        "\n",
        "# === PART 3: Word count chart ===\n",
        "sample_df['desc_len'] = sample_df['description'].apply(lambda x: len(str(x).split()))\n",
        "sample_df['extract_len'] = sample_df['extractive'].apply(lambda x: len(str(x).split()))\n",
        "sample_df['abstr_len'] = sample_df['abstractive'].apply(lambda x: len(str(x).split()))\n",
        "\n",
        "sample_df[['desc_len','extract_len','abstr_len']].plot(\n",
        "    kind='bar', figsize=(10,5), width=0.7)\n",
        "\n",
        "plt.title(\"Word Count Comparison (Description vs Extractive vs Abstractive)\")\n",
        "plt.xlabel(\"Sample Index\")\n",
        "plt.ylabel(\"Word Count\")\n",
        "plt.xticks(rotation=0)\n",
        "plt.legend([\"Description\",\"Extractive\",\"Abstractive\"])\n",
        "plt.show()\n"
      ],
      "metadata": {
        "colab": {
          "base_uri": "https://localhost:8080/",
          "height": 1000
        },
        "id": "-SuoAQJ5qNNI",
        "outputId": "2785114b-6620-4bce-96d9-dd841bf2fc92"
      },
      "execution_count": 23,
      "outputs": [
        {
          "output_type": "display_data",
          "data": {
            "text/plain": [
              "<IPython.core.display.HTML object>"
            ],
            "text/html": [
              "<style type=\"text/css\">\n",
              "#T_e790a th {\n",
              "  background-color: #4CAF50;\n",
              "  color: white;\n",
              "  text-align: center;\n",
              "  padding: 8px;\n",
              "}\n",
              "#T_e790a_row0_col0, #T_e790a_row0_col1, #T_e790a_row0_col2, #T_e790a_row1_col0, #T_e790a_row1_col1, #T_e790a_row1_col2, #T_e790a_row2_col0, #T_e790a_row2_col1, #T_e790a_row2_col2 {\n",
              "  background-color: #f9f9f9;\n",
              "  padding: 6px;\n",
              "  border: 1px solid #ddd;\n",
              "}\n",
              "</style>\n",
              "<table id=\"T_e790a\">\n",
              "  <thead>\n",
              "    <tr>\n",
              "      <th class=\"blank level0\" >&nbsp;</th>\n",
              "      <th id=\"T_e790a_level0_col0\" class=\"col_heading level0 col0\" >description</th>\n",
              "      <th id=\"T_e790a_level0_col1\" class=\"col_heading level0 col1\" >extractive</th>\n",
              "      <th id=\"T_e790a_level0_col2\" class=\"col_heading level0 col2\" >abstractive</th>\n",
              "      <th id=\"T_e790a_level0_col3\" class=\"col_heading level0 col3\" >ROUGE-1 F1 (Extractive)</th>\n",
              "      <th id=\"T_e790a_level0_col4\" class=\"col_heading level0 col4\" >ROUGE-1 F1 (Abstractive)</th>\n",
              "    </tr>\n",
              "  </thead>\n",
              "  <tbody>\n",
              "    <tr>\n",
              "      <th id=\"T_e790a_level0_row0\" class=\"row_heading level0 row0\" >0</th>\n",
              "      <td id=\"T_e790a_row0_col0\" class=\"data row0 col0\" > A 23-year-old white female presents with complaint of allergies.</td>\n",
              "      <td id=\"T_e790a_row0_col1\" class=\"data row0 col1\" >She used to have allergies when she lived in Seattle but she thinks they are worse here. She does have asthma but doest not require daily medication for this and does not think it is flaring up.,MEDICATIONS: , Her only medication currently is Ortho Tri-Cyclen and the Allegra.,ALLERGIES: , She has no known medicine allergies.,OBJECTIVE:,Vitals: Weight was 130 pounds and blood pressure 124/78.,HEENT: Her throat was mildly erythematous without exudate. She does not think she has prescription coverage so that might be cheaper.,2.</td>\n",
              "      <td id=\"T_e790a_row0_col2\" class=\"data row0 col2\" >the 23-year-old white female has no known medicine allergies. she has tried Claritin, and Zyrtec. she has no prescription nasal sprays.</td>\n",
              "      <td id=\"T_e790a_row0_col3\" class=\"data row0 col3\" >0.020000</td>\n",
              "      <td id=\"T_e790a_row0_col4\" class=\"data row0 col4\" >0.353000</td>\n",
              "    </tr>\n",
              "    <tr>\n",
              "      <th id=\"T_e790a_level0_row1\" class=\"row_heading level0 row1\" >1</th>\n",
              "      <td id=\"T_e790a_row1_col0\" class=\"data row1 col0\" > Consult for laparoscopic gastric bypass.</td>\n",
              "      <td id=\"T_e790a_row1_col1\" class=\"data row1 col1\" >PAST MEDICAL HISTORY:, He has difficulty climbing stairs, difficulty with airline seats, tying shoes, used to public seating, and lifting objects off the floor. He has muscle and joint pains including knee pain, back pain, foot and ankle pain, and swelling. He now smokes less than three cigarettes a day.,FAMILY HISTORY:, Heart disease in both grandfathers, grandmother with stroke, and a grandmother with diabetes. Denies obesity and hypertension in other family members.,CURRENT MEDICATIONS:, None.,ALLERGIES:, He is allergic to Penicillin.,MISCELLANEOUS/EATING HISTORY:, He has been going to support groups for seven months with Lynn Holmberg in Greenwich and he is from Eastchester, New York and he feels that we are the appropriate program. If ,he lost 60% of his excess body weight that would be 84 pounds and he should weigh about 228.,REVIEW OF SYSTEMS: ,Negative for head, neck, heart, lungs, GI, GU, orthopedic, and skin. Specifically denies chest pain, heart attack, coronary artery disease, congestive heart failure, arrhythmia, atrial fibrillation, pacemaker, high cholesterol, pulmonary embolism, high blood pressure, CVA, venous insufficiency, thrombophlebitis, asthma, shortness of breath, COPD, emphysema, sleep apnea, diabetes, leg and foot swelling, osteoarthritis, rheumatoid arthritis, hiatal hernia, peptic ulcer disease, gallstones, infected gallbladder, pancreatitis, fatty liver, hepatitis, hemorrhoids, rectal bleeding, polyps, incontinence of stool, urinary stress incontinence, or cancer.</td>\n",
              "      <td id=\"T_e790a_row1_col2\" class=\"data row1 col2\" >he has gastroesophageal reflux disease and is currently single. he has about ten drinks a year.</td>\n",
              "      <td id=\"T_e790a_row1_col3\" class=\"data row1 col3\" >0.009000</td>\n",
              "      <td id=\"T_e790a_row1_col4\" class=\"data row1 col4\" >0.000000</td>\n",
              "    </tr>\n",
              "    <tr>\n",
              "      <th id=\"T_e790a_level0_row2\" class=\"row_heading level0 row2\" >2</th>\n",
              "      <td id=\"T_e790a_row2_col0\" class=\"data row2 col0\" > Consult for laparoscopic gastric bypass.</td>\n",
              "      <td id=\"T_e790a_row2_col1\" class=\"data row2 col1\" >When he loses weight he always regains it and he gains back more than he lost. He has been on multiple commercial weight loss programs including Slim Fast for one month one year ago and Atkin's Diet for one month two years ago.,PAST MEDICAL HISTORY: , He has difficulty climbing stairs, difficulty with airline seats, tying shoes, used to public seating, difficulty walking, high cholesterol, and high blood pressure. He smokes one and a half pack a day for 15 years, but he has recently stopped smoking for the past two weeks.,FAMILY HISTORY: , Obesity, heart disease, and diabetes. Family history is negative for hypertension and stroke.,CURRENT MEDICATIONS:, Include Diovan, Crestor, and Tricor.,MISCELLANEOUS/EATING HISTORY: ,He says a couple of friends of his have had heart attacks and have had died. Extremities: He has 1+ pitting edema.,IMPRESSION/PLAN:, I have explained to him the risks and potential complications of laparoscopic gastric bypass in detail and these include bleeding, infection, deep venous thrombosis, pulmonary embolism, leakage from the gastrojejuno-anastomosis, jejunojejuno-anastomosis, and possible bowel obstruction among other potential complications. He will need to go to Dr. XYZ as he previously had a sleep study.</td>\n",
              "      <td id=\"T_e790a_row2_col2\" class=\"data row2 col2\" >he has been overweight for ten years since the age of 33, at his highest he was 358 pounds, at his lowest 260. he is pursuing surgical attempts of weight loss to feel good, get healthy, and begin to exercise again.</td>\n",
              "      <td id=\"T_e790a_row2_col3\" class=\"data row2 col3\" >0.039000</td>\n",
              "      <td id=\"T_e790a_row2_col4\" class=\"data row2 col4\" >0.043000</td>\n",
              "    </tr>\n",
              "  </tbody>\n",
              "</table>\n"
            ]
          },
          "metadata": {}
        },
        {
          "output_type": "display_data",
          "data": {
            "text/plain": [
              "<Figure size 1000x500 with 1 Axes>"
            ],
            "image/png": "[encoded data removed]"
          },
          "metadata": {}
        }
      ]
    },
    {
      "cell_type": "markdown",
      "source": [
        " Visualization: ROUGE Comparison (Extractive vs Abstractive)"
      ],
      "metadata": {
        "id": "MGAc1hI1rcF2"
      }
    },
    {
      "cell_type": "code",
      "source": [
        "import matplotlib.pyplot as plt\n",
        "\n",
        "# Example scores – replace with your actual averages\n",
        "extractive_rouge = 0.16   # from your earlier results\n",
        "abstractive_rouge = 0.35  # from your earlier results\n",
        "\n",
        "methods = ['Extractive', 'Abstractive']\n",
        "scores = [extractive_rouge, abstractive_rouge]\n",
        "\n",
        "plt.figure(figsize=(6,5))\n",
        "plt.bar(methods, scores, color=['skyblue','salmon'])\n",
        "plt.title(\"Average ROUGE-L F1 Score Comparison\", fontsize=14)\n",
        "plt.ylabel(\"ROUGE-L F1\", fontsize=12)\n",
        "plt.ylim(0,1)\n",
        "plt.show()\n"
      ],
      "metadata": {
        "colab": {
          "base_uri": "https://localhost:8080/",
          "height": 469
        },
        "id": "ofOMrQdWqo83",
        "outputId": "9ae61991-536a-4ba1-af49-a73751b5407e"
      },
      "execution_count": 24,
      "outputs": [
        {
          "output_type": "display_data",
          "data": {
            "text/plain": [
              "<Figure size 600x500 with 1 Axes>"
            ],
            "image/png": "[encoded data removed]"
          },
          "metadata": {}
        }
      ]
    },
    {
      "cell_type": "markdown",
      "source": [
        "Heatmap of Word Counts (optional)"
      ],
      "metadata": {
        "id": "rwt32AodrmBi"
      }
    },
    {
      "cell_type": "code",
      "source": [
        "import seaborn as sns\n",
        "import pandas as pd\n",
        "\n",
        "# Collect word counts for comparison\n",
        "df_counts = pd.DataFrame({\n",
        "    \"Description\": [len(d.split()) for d in df[\"description\"].head(10)],\n",
        "    \"Extractive\": [len(e.split()) for e in df[\"extractive\"].head(10)],\n",
        "    \"Abstractive\": [len(a.split()) for a in df[\"abstractive\"].head(10)]\n",
        "})\n",
        "\n",
        "plt.figure(figsize=(8,5))\n",
        "sns.heatmap(df_counts.T, annot=True, fmt=\"d\", cmap=\"YlGnBu\")\n",
        "plt.title(\"Word Count Comparison (First 10 Samples)\")\n",
        "plt.xlabel(\"Sample ID\")\n",
        "plt.ylabel(\"Type\")\n",
        "plt.show()\n"
      ],
      "metadata": {
        "colab": {
          "base_uri": "https://localhost:8080/",
          "height": 487
        },
        "id": "YGGjhx9Brg0g",
        "outputId": "032768db-e0fb-4904-ce14-9b41e15c563c"
      },
      "execution_count": 25,
      "outputs": [
        {
          "output_type": "display_data",
          "data": {
            "text/plain": [
              "<Figure size 800x500 with 2 Axes>"
            ],
            "image/png": "[encoded data removed]"
          },
          "metadata": {}
        }
      ]
    },
    {
      "cell_type": "markdown",
      "source": [
        "# 📌 Conclusion\n",
        "\n",
        "- **Extractive Summarization** kept more details but produced long and sometimes redundant summaries.\n",
        "- **Abstractive Summarization (T5-small)** generated shorter and more readable summaries, closer to human-like documentation.\n",
        "- ROUGE scores showed **abstractive > extractive** on average (e.g., ROUGE-L F1 ~ 0.35 vs 0.16).\n",
        "- Hospitals/clinics would benefit more from **abstractive summarization** for quick patient overviews.\n",
        "\n",
        " Project complete: Dataset → Preprocessing → Summarization → Evaluation → Visualization → Conclusion."
      ],
      "metadata": {
        "id": "2RQiqawwsfZV"
      }
    },
    {
      "cell_type": "code",
      "source": [],
      "metadata": {
        "id": "_9HH6EumryiZ"
      },
      "execution_count": null,
      "outputs": []
    }
  ]
}